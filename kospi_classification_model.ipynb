{
 "cells": [
  {
   "cell_type": "markdown",
   "id": "54cfe008-8bb6-418b-9ed9-a2d3c76680a3",
   "metadata": {},
   "source": [
    "<font size=6><b> KOSPI 예측모델 (by 뉴스 긍부정 비율)"
   ]
  },
  {
   "cell_type": "code",
   "execution_count": 184,
   "id": "d4fa33fd-b075-4dc3-8eb6-1ea385901916",
   "metadata": {
    "id": "d4fa33fd-b075-4dc3-8eb6-1ea385901916",
    "outputId": "95b199e8-dbef-4067-c8cc-a803612e8363",
    "tags": []
   },
   "outputs": [
    {
     "data": {
      "text/html": [
       "<style>.container{width:100% !important;}</style>"
      ],
      "text/plain": [
       "<IPython.core.display.HTML object>"
      ]
     },
     "metadata": {},
     "output_type": "display_data"
    }
   ],
   "source": [
    "from IPython.display import Image\n",
    "import pandas as pd\n",
    "import numpy as np\n",
    "import matplotlib.pyplot as plt\n",
    "import seaborn as sns\n",
    "\n",
    "import time\n",
    "import datetime\n",
    "\n",
    "from scipy import stats\n",
    "from sklearn.preprocessing import StandardScaler, MinMaxScaler, RobustScaler\n",
    "\n",
    "import plotly.graph_objects as go\n",
    "from plotly.subplots import make_subplots\n",
    "\n",
    "import warnings\n",
    "warnings.filterwarnings(action='ignore')\n",
    "\n",
    "sns.set()\n",
    "#-------------------- 차트 관련 속성 (한글처리, 그리드) -----------\n",
    "#plt.rc('font', family='NanumGothicOTF') # For MacOS\n",
    "plt.rcParams['font.family']= 'Malgun Gothic'\n",
    "plt.rcParams['axes.unicode_minus'] = False\n",
    "\n",
    "\n",
    "#-------------------- 주피터 , 출력결과 넓이 늘리기 ---------------\n",
    "from IPython.core.display import display, HTML\n",
    "display(HTML(\"<style>.container{width:100% !important;}</style>\"))\n",
    "pd.set_option('display.max_rows', 100)\n",
    "pd.set_option('display.max_columns', 100)\n",
    "pd.set_option('max_colwidth', None)\n",
    "\n",
    "pd.options.plotting.backend = \"plotly\"\n",
    "\n",
    "# 중립뉴스 제거 여부\n",
    "DEL_NEUT = True\n",
    "\n",
    "# 가상화폐 관련 뉴스 제거 여부\n",
    "DEL_COINNEWS = True\n",
    "\n",
    "# Negative 뉴스 가중치\n",
    "NEG_WEIGHT = 2"
   ]
  },
  {
   "cell_type": "code",
   "execution_count": 185,
   "id": "52cba379-80a6-4b27-86c4-265222b438d9",
   "metadata": {},
   "outputs": [],
   "source": [
    "from keras.models import Sequential\n",
    "from keras.models import Model\n",
    "\n",
    "from keras.layers import Dense, LSTM, TimeDistributed,Input, Flatten\n",
    "import os\n",
    "\n",
    "import tensorflow as tf\n",
    "\n",
    "from tensorflow.keras.callbacks import EarlyStopping, ModelCheckpoint\n",
    "\n",
    "from sklearn.metrics import mean_squared_error, accuracy_score\n",
    "from sklearn.metrics import confusion_matrix\n",
    "from sklearn.metrics import f1_score\n",
    "from sklearn.metrics import precision_score, recall_score "
   ]
  },
  {
   "cell_type": "markdown",
   "id": "5e7bd189-62d9-40dc-90e5-e2f1cf19086d",
   "metadata": {
    "id": "5e7bd189-62d9-40dc-90e5-e2f1cf19086d"
   },
   "source": [
    "# KOSPI data load"
   ]
  },
  {
   "cell_type": "code",
   "execution_count": 186,
   "id": "d9995e3b-2a65-4f1a-b2ec-b101052a7921",
   "metadata": {
    "id": "d9995e3b-2a65-4f1a-b2ec-b101052a7921",
    "outputId": "dcae7420-dbd7-4b89-8c3c-3710559062fb",
    "tags": []
   },
   "outputs": [
    {
     "data": {
      "text/html": [
       "<div>\n",
       "<style scoped>\n",
       "    .dataframe tbody tr th:only-of-type {\n",
       "        vertical-align: middle;\n",
       "    }\n",
       "\n",
       "    .dataframe tbody tr th {\n",
       "        vertical-align: top;\n",
       "    }\n",
       "\n",
       "    .dataframe thead th {\n",
       "        text-align: right;\n",
       "    }\n",
       "</style>\n",
       "<table border=\"1\" class=\"dataframe\">\n",
       "  <thead>\n",
       "    <tr style=\"text-align: right;\">\n",
       "      <th></th>\n",
       "      <th>종가</th>\n",
       "      <th>대비</th>\n",
       "      <th>등락률</th>\n",
       "      <th>시가</th>\n",
       "      <th>고가</th>\n",
       "      <th>저가</th>\n",
       "      <th>거래량</th>\n",
       "      <th>거래대금</th>\n",
       "      <th>상장시가총액</th>\n",
       "    </tr>\n",
       "    <tr>\n",
       "      <th>일자</th>\n",
       "      <th></th>\n",
       "      <th></th>\n",
       "      <th></th>\n",
       "      <th></th>\n",
       "      <th></th>\n",
       "      <th></th>\n",
       "      <th></th>\n",
       "      <th></th>\n",
       "      <th></th>\n",
       "    </tr>\n",
       "  </thead>\n",
       "  <tbody>\n",
       "    <tr>\n",
       "      <th>2021-01-04</th>\n",
       "      <td>2944.45</td>\n",
       "      <td>70.98</td>\n",
       "      <td>2.47</td>\n",
       "      <td>2874.50</td>\n",
       "      <td>2946.54</td>\n",
       "      <td>2869.11</td>\n",
       "      <td>1026510.0</td>\n",
       "      <td>25011394.0</td>\n",
       "      <td>2.028846e+09</td>\n",
       "    </tr>\n",
       "    <tr>\n",
       "      <th>2021-01-05</th>\n",
       "      <td>2990.57</td>\n",
       "      <td>46.12</td>\n",
       "      <td>1.57</td>\n",
       "      <td>2943.67</td>\n",
       "      <td>2990.57</td>\n",
       "      <td>2921.84</td>\n",
       "      <td>1519912.0</td>\n",
       "      <td>26548380.0</td>\n",
       "      <td>2.059744e+09</td>\n",
       "    </tr>\n",
       "    <tr>\n",
       "      <th>2021-01-06</th>\n",
       "      <td>2968.21</td>\n",
       "      <td>-22.36</td>\n",
       "      <td>-0.75</td>\n",
       "      <td>2993.34</td>\n",
       "      <td>3027.16</td>\n",
       "      <td>2961.37</td>\n",
       "      <td>1793419.0</td>\n",
       "      <td>29909396.0</td>\n",
       "      <td>2.044103e+09</td>\n",
       "    </tr>\n",
       "    <tr>\n",
       "      <th>2021-01-07</th>\n",
       "      <td>3031.68</td>\n",
       "      <td>63.47</td>\n",
       "      <td>2.14</td>\n",
       "      <td>2980.75</td>\n",
       "      <td>3055.28</td>\n",
       "      <td>2980.75</td>\n",
       "      <td>1524655.0</td>\n",
       "      <td>27182807.0</td>\n",
       "      <td>2.086579e+09</td>\n",
       "    </tr>\n",
       "    <tr>\n",
       "      <th>2021-01-08</th>\n",
       "      <td>3152.18</td>\n",
       "      <td>120.50</td>\n",
       "      <td>3.97</td>\n",
       "      <td>3040.11</td>\n",
       "      <td>3161.11</td>\n",
       "      <td>3040.11</td>\n",
       "      <td>1297903.0</td>\n",
       "      <td>40909490.0</td>\n",
       "      <td>2.170538e+09</td>\n",
       "    </tr>\n",
       "  </tbody>\n",
       "</table>\n",
       "</div>"
      ],
      "text/plain": [
       "                 종가      대비   등락률       시가       고가       저가        거래량  \\\n",
       "일자                                                                        \n",
       "2021-01-04  2944.45   70.98  2.47  2874.50  2946.54  2869.11  1026510.0   \n",
       "2021-01-05  2990.57   46.12  1.57  2943.67  2990.57  2921.84  1519912.0   \n",
       "2021-01-06  2968.21  -22.36 -0.75  2993.34  3027.16  2961.37  1793419.0   \n",
       "2021-01-07  3031.68   63.47  2.14  2980.75  3055.28  2980.75  1524655.0   \n",
       "2021-01-08  3152.18  120.50  3.97  3040.11  3161.11  3040.11  1297903.0   \n",
       "\n",
       "                  거래대금        상장시가총액  \n",
       "일자                                    \n",
       "2021-01-04  25011394.0  2.028846e+09  \n",
       "2021-01-05  26548380.0  2.059744e+09  \n",
       "2021-01-06  29909396.0  2.044103e+09  \n",
       "2021-01-07  27182807.0  2.086579e+09  \n",
       "2021-01-08  40909490.0  2.170538e+09  "
      ]
     },
     "execution_count": 186,
     "metadata": {},
     "output_type": "execute_result"
    }
   ],
   "source": [
    "kospi = pd.read_csv('./datasets/kospi/kospidf.csv', parse_dates=['일자'])\n",
    "kospi = kospi[kospi['일자'] >= '2021-01-01']\n",
    "kospi = kospi.set_index('일자')\n",
    "kospi.head()"
   ]
  },
  {
   "cell_type": "code",
   "execution_count": 187,
   "id": "671b5798-5aec-489c-8b58-747f6292476a",
   "metadata": {
    "tags": []
   },
   "outputs": [
    {
     "data": {
      "text/html": [
       "<div>\n",
       "<style scoped>\n",
       "    .dataframe tbody tr th:only-of-type {\n",
       "        vertical-align: middle;\n",
       "    }\n",
       "\n",
       "    .dataframe tbody tr th {\n",
       "        vertical-align: top;\n",
       "    }\n",
       "\n",
       "    .dataframe thead th {\n",
       "        text-align: right;\n",
       "    }\n",
       "</style>\n",
       "<table border=\"1\" class=\"dataframe\">\n",
       "  <thead>\n",
       "    <tr style=\"text-align: right;\">\n",
       "      <th></th>\n",
       "      <th>종가</th>\n",
       "      <th>대비</th>\n",
       "      <th>등락률</th>\n",
       "      <th>시가</th>\n",
       "      <th>고가</th>\n",
       "      <th>저가</th>\n",
       "      <th>거래량</th>\n",
       "      <th>거래대금</th>\n",
       "      <th>상장시가총액</th>\n",
       "      <th>등락여부</th>\n",
       "    </tr>\n",
       "    <tr>\n",
       "      <th>일자</th>\n",
       "      <th></th>\n",
       "      <th></th>\n",
       "      <th></th>\n",
       "      <th></th>\n",
       "      <th></th>\n",
       "      <th></th>\n",
       "      <th></th>\n",
       "      <th></th>\n",
       "      <th></th>\n",
       "      <th></th>\n",
       "    </tr>\n",
       "  </thead>\n",
       "  <tbody>\n",
       "    <tr>\n",
       "      <th>2021-01-04</th>\n",
       "      <td>2944.45</td>\n",
       "      <td>70.98</td>\n",
       "      <td>2.47</td>\n",
       "      <td>2874.50</td>\n",
       "      <td>2946.54</td>\n",
       "      <td>2869.11</td>\n",
       "      <td>1026510.0</td>\n",
       "      <td>25011394.0</td>\n",
       "      <td>2.028846e+09</td>\n",
       "      <td>1</td>\n",
       "    </tr>\n",
       "    <tr>\n",
       "      <th>2021-01-05</th>\n",
       "      <td>2990.57</td>\n",
       "      <td>46.12</td>\n",
       "      <td>1.57</td>\n",
       "      <td>2943.67</td>\n",
       "      <td>2990.57</td>\n",
       "      <td>2921.84</td>\n",
       "      <td>1519912.0</td>\n",
       "      <td>26548380.0</td>\n",
       "      <td>2.059744e+09</td>\n",
       "      <td>1</td>\n",
       "    </tr>\n",
       "    <tr>\n",
       "      <th>2021-01-06</th>\n",
       "      <td>2968.21</td>\n",
       "      <td>-22.36</td>\n",
       "      <td>-0.75</td>\n",
       "      <td>2993.34</td>\n",
       "      <td>3027.16</td>\n",
       "      <td>2961.37</td>\n",
       "      <td>1793419.0</td>\n",
       "      <td>29909396.0</td>\n",
       "      <td>2.044103e+09</td>\n",
       "      <td>0</td>\n",
       "    </tr>\n",
       "    <tr>\n",
       "      <th>2021-01-07</th>\n",
       "      <td>3031.68</td>\n",
       "      <td>63.47</td>\n",
       "      <td>2.14</td>\n",
       "      <td>2980.75</td>\n",
       "      <td>3055.28</td>\n",
       "      <td>2980.75</td>\n",
       "      <td>1524655.0</td>\n",
       "      <td>27182807.0</td>\n",
       "      <td>2.086579e+09</td>\n",
       "      <td>1</td>\n",
       "    </tr>\n",
       "    <tr>\n",
       "      <th>2021-01-08</th>\n",
       "      <td>3152.18</td>\n",
       "      <td>120.50</td>\n",
       "      <td>3.97</td>\n",
       "      <td>3040.11</td>\n",
       "      <td>3161.11</td>\n",
       "      <td>3040.11</td>\n",
       "      <td>1297903.0</td>\n",
       "      <td>40909490.0</td>\n",
       "      <td>2.170538e+09</td>\n",
       "      <td>1</td>\n",
       "    </tr>\n",
       "  </tbody>\n",
       "</table>\n",
       "</div>"
      ],
      "text/plain": [
       "                 종가      대비   등락률       시가       고가       저가        거래량  \\\n",
       "일자                                                                        \n",
       "2021-01-04  2944.45   70.98  2.47  2874.50  2946.54  2869.11  1026510.0   \n",
       "2021-01-05  2990.57   46.12  1.57  2943.67  2990.57  2921.84  1519912.0   \n",
       "2021-01-06  2968.21  -22.36 -0.75  2993.34  3027.16  2961.37  1793419.0   \n",
       "2021-01-07  3031.68   63.47  2.14  2980.75  3055.28  2980.75  1524655.0   \n",
       "2021-01-08  3152.18  120.50  3.97  3040.11  3161.11  3040.11  1297903.0   \n",
       "\n",
       "                  거래대금        상장시가총액  등락여부  \n",
       "일자                                          \n",
       "2021-01-04  25011394.0  2.028846e+09     1  \n",
       "2021-01-05  26548380.0  2.059744e+09     1  \n",
       "2021-01-06  29909396.0  2.044103e+09     0  \n",
       "2021-01-07  27182807.0  2.086579e+09     1  \n",
       "2021-01-08  40909490.0  2.170538e+09     1  "
      ]
     },
     "execution_count": 187,
     "metadata": {},
     "output_type": "execute_result"
    }
   ],
   "source": [
    "def convert_up_down(p):\n",
    "    label = 0\n",
    "    if p>=0:\n",
    "        label = 1\n",
    "    return label\n",
    "\n",
    "kospi['등락여부'] = kospi['등락률'].apply(convert_up_down)  # 분류모델 학습시 활용\n",
    "kospi.head()"
   ]
  },
  {
   "cell_type": "code",
   "execution_count": 188,
   "id": "5e45f53b-00ed-4e10-aac3-96d41a63734b",
   "metadata": {
    "tags": []
   },
   "outputs": [
    {
     "data": {
      "text/html": [
       "<div>\n",
       "<style scoped>\n",
       "    .dataframe tbody tr th:only-of-type {\n",
       "        vertical-align: middle;\n",
       "    }\n",
       "\n",
       "    .dataframe tbody tr th {\n",
       "        vertical-align: top;\n",
       "    }\n",
       "\n",
       "    .dataframe thead th {\n",
       "        text-align: right;\n",
       "    }\n",
       "</style>\n",
       "<table border=\"1\" class=\"dataframe\">\n",
       "  <thead>\n",
       "    <tr style=\"text-align: right;\">\n",
       "      <th></th>\n",
       "      <th>등락률</th>\n",
       "      <th>등락여부</th>\n",
       "    </tr>\n",
       "    <tr>\n",
       "      <th>일자</th>\n",
       "      <th></th>\n",
       "      <th></th>\n",
       "    </tr>\n",
       "  </thead>\n",
       "  <tbody>\n",
       "    <tr>\n",
       "      <th>2021-01-04</th>\n",
       "      <td>2.47</td>\n",
       "      <td>1</td>\n",
       "    </tr>\n",
       "    <tr>\n",
       "      <th>2021-01-05</th>\n",
       "      <td>1.57</td>\n",
       "      <td>1</td>\n",
       "    </tr>\n",
       "    <tr>\n",
       "      <th>2021-01-06</th>\n",
       "      <td>-0.75</td>\n",
       "      <td>0</td>\n",
       "    </tr>\n",
       "    <tr>\n",
       "      <th>2021-01-07</th>\n",
       "      <td>2.14</td>\n",
       "      <td>1</td>\n",
       "    </tr>\n",
       "    <tr>\n",
       "      <th>2021-01-08</th>\n",
       "      <td>3.97</td>\n",
       "      <td>1</td>\n",
       "    </tr>\n",
       "  </tbody>\n",
       "</table>\n",
       "</div>"
      ],
      "text/plain": [
       "             등락률  등락여부\n",
       "일자                    \n",
       "2021-01-04  2.47     1\n",
       "2021-01-05  1.57     1\n",
       "2021-01-06 -0.75     0\n",
       "2021-01-07  2.14     1\n",
       "2021-01-08  3.97     1"
      ]
     },
     "execution_count": 188,
     "metadata": {},
     "output_type": "execute_result"
    }
   ],
   "source": [
    "kospi = kospi[['등락률','등락여부']]\n",
    "kospi.head()"
   ]
  },
  {
   "cell_type": "code",
   "execution_count": 189,
   "id": "7e4bd01b-8654-4c39-ae14-b83a9f2a7554",
   "metadata": {
    "tags": []
   },
   "outputs": [
    {
     "data": {
      "text/html": [
       "<div>\n",
       "<style scoped>\n",
       "    .dataframe tbody tr th:only-of-type {\n",
       "        vertical-align: middle;\n",
       "    }\n",
       "\n",
       "    .dataframe tbody tr th {\n",
       "        vertical-align: top;\n",
       "    }\n",
       "\n",
       "    .dataframe thead th {\n",
       "        text-align: right;\n",
       "    }\n",
       "</style>\n",
       "<table border=\"1\" class=\"dataframe\">\n",
       "  <thead>\n",
       "    <tr style=\"text-align: right;\">\n",
       "      <th></th>\n",
       "      <th>등락률</th>\n",
       "      <th>등락여부</th>\n",
       "    </tr>\n",
       "    <tr>\n",
       "      <th>일자</th>\n",
       "      <th></th>\n",
       "      <th></th>\n",
       "    </tr>\n",
       "  </thead>\n",
       "  <tbody>\n",
       "    <tr>\n",
       "      <th>2023-05-24</th>\n",
       "      <td>0.00</td>\n",
       "      <td>1</td>\n",
       "    </tr>\n",
       "    <tr>\n",
       "      <th>2023-05-25</th>\n",
       "      <td>-0.50</td>\n",
       "      <td>0</td>\n",
       "    </tr>\n",
       "    <tr>\n",
       "      <th>2023-05-26</th>\n",
       "      <td>0.16</td>\n",
       "      <td>1</td>\n",
       "    </tr>\n",
       "    <tr>\n",
       "      <th>2023-05-30</th>\n",
       "      <td>1.04</td>\n",
       "      <td>1</td>\n",
       "    </tr>\n",
       "    <tr>\n",
       "      <th>2023-05-31</th>\n",
       "      <td>-0.32</td>\n",
       "      <td>0</td>\n",
       "    </tr>\n",
       "  </tbody>\n",
       "</table>\n",
       "</div>"
      ],
      "text/plain": [
       "             등락률  등락여부\n",
       "일자                    \n",
       "2023-05-24  0.00     1\n",
       "2023-05-25 -0.50     0\n",
       "2023-05-26  0.16     1\n",
       "2023-05-30  1.04     1\n",
       "2023-05-31 -0.32     0"
      ]
     },
     "execution_count": 189,
     "metadata": {},
     "output_type": "execute_result"
    }
   ],
   "source": [
    "kospi.tail()"
   ]
  },
  {
   "cell_type": "code",
   "execution_count": 190,
   "id": "4ab79223-f841-492e-9843-4491b37be681",
   "metadata": {},
   "outputs": [
    {
     "data": {
      "text/plain": [
       "596"
      ]
     },
     "execution_count": 190,
     "metadata": {},
     "output_type": "execute_result"
    }
   ],
   "source": [
    "len(kospi)"
   ]
  },
  {
   "cell_type": "markdown",
   "id": "03b3e702-5679-43e8-9ddf-1f7e4ff23cbc",
   "metadata": {
    "id": "03b3e702-5679-43e8-9ddf-1f7e4ff23cbc"
   },
   "source": [
    "# Predict data load"
   ]
  },
  {
   "cell_type": "code",
   "execution_count": 191,
   "id": "bdf226fc-39dd-4a43-ae9c-07df87312449",
   "metadata": {
    "id": "bdf226fc-39dd-4a43-ae9c-07df87312449",
    "outputId": "e1d54477-10ae-4cf4-f877-ef5d9b22c473",
    "tags": []
   },
   "outputs": [
    {
     "name": "stdout",
     "output_type": "stream",
     "text": [
      "dataset lenght : 133511\n"
     ]
    },
    {
     "data": {
      "text/html": [
       "<div>\n",
       "<style scoped>\n",
       "    .dataframe tbody tr th:only-of-type {\n",
       "        vertical-align: middle;\n",
       "    }\n",
       "\n",
       "    .dataframe tbody tr th {\n",
       "        vertical-align: top;\n",
       "    }\n",
       "\n",
       "    .dataframe thead th {\n",
       "        text-align: right;\n",
       "    }\n",
       "</style>\n",
       "<table border=\"1\" class=\"dataframe\">\n",
       "  <thead>\n",
       "    <tr style=\"text-align: right;\">\n",
       "      <th></th>\n",
       "      <th>key_rdate</th>\n",
       "      <th>key_title</th>\n",
       "      <th>label</th>\n",
       "    </tr>\n",
       "  </thead>\n",
       "  <tbody>\n",
       "    <tr>\n",
       "      <th>0</th>\n",
       "      <td>2021-01-01 07:00:00</td>\n",
       "      <td>[신축년 새해 재운] '金' 기운 올해도 여전...7월 기점으로 코로나 위기 갈무리될 듯</td>\n",
       "      <td>0</td>\n",
       "    </tr>\n",
       "    <tr>\n",
       "      <th>1</th>\n",
       "      <td>2021-01-01 07:00:00</td>\n",
       "      <td>[신축년 띠별 운세]</td>\n",
       "      <td>0</td>\n",
       "    </tr>\n",
       "    <tr>\n",
       "      <th>2</th>\n",
       "      <td>2021-01-01 08:00:00</td>\n",
       "      <td>IT·2차전지·경기민감株 '맑음'…저금리·실적 타고 3,000 간다</td>\n",
       "      <td>0</td>\n",
       "    </tr>\n",
       "    <tr>\n",
       "      <th>3</th>\n",
       "      <td>2021-01-01 08:05:00</td>\n",
       "      <td>\"새해 증시도 高高\"…고객예탁금 65.6조 사상 최고</td>\n",
       "      <td>1</td>\n",
       "    </tr>\n",
       "    <tr>\n",
       "      <th>4</th>\n",
       "      <td>2021-01-01 08:30:00</td>\n",
       "      <td>동학개미 멘토의 새해 투자 코칭…\"흥분 말고 냉철할 때\"</td>\n",
       "      <td>0</td>\n",
       "    </tr>\n",
       "  </tbody>\n",
       "</table>\n",
       "</div>"
      ],
      "text/plain": [
       "            key_rdate                                          key_title  \\\n",
       "0 2021-01-01 07:00:00  [신축년 새해 재운] '金' 기운 올해도 여전...7월 기점으로 코로나 위기 갈무리될 듯   \n",
       "1 2021-01-01 07:00:00                                        [신축년 띠별 운세]   \n",
       "2 2021-01-01 08:00:00              IT·2차전지·경기민감株 '맑음'…저금리·실적 타고 3,000 간다   \n",
       "3 2021-01-01 08:05:00                      \"새해 증시도 高高\"…고객예탁금 65.6조 사상 최고   \n",
       "4 2021-01-01 08:30:00                    동학개미 멘토의 새해 투자 코칭…\"흥분 말고 냉철할 때\"   \n",
       "\n",
       "   label  \n",
       "0      0  \n",
       "1      0  \n",
       "2      0  \n",
       "3      1  \n",
       "4      0  "
      ]
     },
     "execution_count": 191,
     "metadata": {},
     "output_type": "execute_result"
    }
   ],
   "source": [
    "newsdf = pd.read_csv('./datasets/newsdf_pred_0614_samsung_seoul.csv', parse_dates=['key_rdate'])\n",
    "# newsdf = pd.read_csv('./datasets/newsdf_pred_0614_samsung.csv', parse_dates=['key_rdate'])\n",
    "newsdf = newsdf.sort_values('key_rdate')\n",
    "newsdf = newsdf[newsdf['key_rdate'] >= '2021-01-01']\n",
    "\n",
    "newsdf = newsdf.reset_index()\n",
    "newsdf = newsdf.drop('index', axis=1)\n",
    "\n",
    "print(f'dataset lenght : {len(newsdf)}')\n",
    "newsdf.head()"
   ]
  },
  {
   "cell_type": "markdown",
   "id": "01b9442c-6136-4bdd-be01-52f17a15af5c",
   "metadata": {},
   "source": [
    "## 데이터 전처리"
   ]
  },
  {
   "cell_type": "markdown",
   "id": "b0156589-4002-4d38-bd17-e6899921ed68",
   "metadata": {},
   "source": [
    "* 중립 뉴스 제거 (중립 뉴스 살리려면 해당 코드 주석처리)"
   ]
  },
  {
   "cell_type": "code",
   "execution_count": 192,
   "id": "4d3a383e-45fc-43e0-877d-e0979585f6df",
   "metadata": {
    "tags": []
   },
   "outputs": [],
   "source": [
    "if DEL_NEUT == True:\n",
    "    newsdf = newsdf[newsdf['label'] != 0]\n",
    "    newsdf = newsdf.reset_index()\n",
    "    newsdf = newsdf.drop('index', axis=1)"
   ]
  },
  {
   "cell_type": "markdown",
   "id": "607e16a6-85b7-461c-b9c6-d304b983f36a",
   "metadata": {
    "id": "607e16a6-85b7-461c-b9c6-d304b983f36a"
   },
   "source": [
    "* 가상화폐 관련 뉴스 제거"
   ]
  },
  {
   "cell_type": "code",
   "execution_count": 193,
   "id": "4a3171d2-b220-459e-936c-0d5d22ddbdb6",
   "metadata": {
    "id": "4a3171d2-b220-459e-936c-0d5d22ddbdb6",
    "outputId": "15f57a31-74e9-46b9-e0c1-b83fc32d644c",
    "tags": []
   },
   "outputs": [
    {
     "data": {
      "text/html": [
       "<div>\n",
       "<style scoped>\n",
       "    .dataframe tbody tr th:only-of-type {\n",
       "        vertical-align: middle;\n",
       "    }\n",
       "\n",
       "    .dataframe tbody tr th {\n",
       "        vertical-align: top;\n",
       "    }\n",
       "\n",
       "    .dataframe thead th {\n",
       "        text-align: right;\n",
       "    }\n",
       "</style>\n",
       "<table border=\"1\" class=\"dataframe\">\n",
       "  <thead>\n",
       "    <tr style=\"text-align: right;\">\n",
       "      <th></th>\n",
       "      <th>key_rdate</th>\n",
       "      <th>key_title</th>\n",
       "      <th>label</th>\n",
       "    </tr>\n",
       "  </thead>\n",
       "  <tbody>\n",
       "    <tr>\n",
       "      <th>0</th>\n",
       "      <td>2021-01-01 08:05:00</td>\n",
       "      <td>\"새해 증시도 高高\"…고객예탁금 65.6조 사상 최고</td>\n",
       "      <td>1</td>\n",
       "    </tr>\n",
       "    <tr>\n",
       "      <th>1</th>\n",
       "      <td>2021-01-01 09:10:00</td>\n",
       "      <td>2020 뉴욕증시 '역대 최고치' 피날레…다우·S&amp;P도 신기록 썼다</td>\n",
       "      <td>1</td>\n",
       "    </tr>\n",
       "    <tr>\n",
       "      <th>2</th>\n",
       "      <td>2021-01-01 09:53:00</td>\n",
       "      <td>동학개미 덕에 코스피 시가총액, 사상 최초 GDP 넘어선 듯</td>\n",
       "      <td>2</td>\n",
       "    </tr>\n",
       "    <tr>\n",
       "      <th>3</th>\n",
       "      <td>2021-01-01 10:01:00</td>\n",
       "      <td>4월부터 불법 공매도 감시·처벌 강화</td>\n",
       "      <td>1</td>\n",
       "    </tr>\n",
       "    <tr>\n",
       "      <th>4</th>\n",
       "      <td>2021-01-02 09:12:00</td>\n",
       "      <td>[2021 산업]⑤ 결국 AI서 결판난다...4대 그룹 현주소는</td>\n",
       "      <td>2</td>\n",
       "    </tr>\n",
       "  </tbody>\n",
       "</table>\n",
       "</div>"
      ],
      "text/plain": [
       "            key_rdate                              key_title  label\n",
       "0 2021-01-01 08:05:00          \"새해 증시도 高高\"…고객예탁금 65.6조 사상 최고      1\n",
       "1 2021-01-01 09:10:00  2020 뉴욕증시 '역대 최고치' 피날레…다우·S&P도 신기록 썼다      1\n",
       "2 2021-01-01 09:53:00      동학개미 덕에 코스피 시가총액, 사상 최초 GDP 넘어선 듯      2\n",
       "3 2021-01-01 10:01:00                   4월부터 불법 공매도 감시·처벌 강화      1\n",
       "4 2021-01-02 09:12:00    [2021 산업]⑤ 결국 AI서 결판난다...4대 그룹 현주소는      2"
      ]
     },
     "execution_count": 193,
     "metadata": {},
     "output_type": "execute_result"
    }
   ],
   "source": [
    "if DEL_COINNEWS == True:\n",
    "    dellist = []\n",
    "    for i in range(len(newsdf)):\n",
    "        if '비트코인' in newsdf.loc[i, 'key_title'] or '가상화폐' in newsdf.loc[i, 'key_title'] or \\\n",
    "        '이더리움' in newsdf.loc[i, 'key_title'] or '알트코인' in newsdf.loc[i, 'key_title']:\n",
    "            dellist.append(i)\n",
    "\n",
    "    newsdf = newsdf.drop(dellist)\n",
    "    newsdf = newsdf.reset_index()\n",
    "    newsdf = newsdf.drop('index', axis=1)\n",
    "newsdf.head()"
   ]
  },
  {
   "cell_type": "markdown",
   "id": "e022ed09-b41c-4778-8136-b839e9ee8f42",
   "metadata": {
    "id": "e022ed09-b41c-4778-8136-b839e9ee8f42",
    "tags": []
   },
   "source": [
    "* 장중, 장외 시간 Labeling"
   ]
  },
  {
   "cell_type": "code",
   "execution_count": 194,
   "id": "8050db49-bd3f-41b2-846b-c8290b529630",
   "metadata": {
    "id": "8050db49-bd3f-41b2-846b-c8290b529630",
    "outputId": "c0e0d0a0-852a-417a-b1fe-c06d119085e4",
    "tags": []
   },
   "outputs": [
    {
     "data": {
      "text/html": [
       "<div>\n",
       "<style scoped>\n",
       "    .dataframe tbody tr th:only-of-type {\n",
       "        vertical-align: middle;\n",
       "    }\n",
       "\n",
       "    .dataframe tbody tr th {\n",
       "        vertical-align: top;\n",
       "    }\n",
       "\n",
       "    .dataframe thead th {\n",
       "        text-align: right;\n",
       "    }\n",
       "</style>\n",
       "<table border=\"1\" class=\"dataframe\">\n",
       "  <thead>\n",
       "    <tr style=\"text-align: right;\">\n",
       "      <th></th>\n",
       "      <th>key_rdate</th>\n",
       "      <th>key_title</th>\n",
       "      <th>label</th>\n",
       "      <th>open_close</th>\n",
       "    </tr>\n",
       "  </thead>\n",
       "  <tbody>\n",
       "    <tr>\n",
       "      <th>0</th>\n",
       "      <td>2021-01-01 08:05:00</td>\n",
       "      <td>\"새해 증시도 高高\"…고객예탁금 65.6조 사상 최고</td>\n",
       "      <td>1</td>\n",
       "      <td>0</td>\n",
       "    </tr>\n",
       "    <tr>\n",
       "      <th>1</th>\n",
       "      <td>2021-01-01 09:10:00</td>\n",
       "      <td>2020 뉴욕증시 '역대 최고치' 피날레…다우·S&amp;P도 신기록 썼다</td>\n",
       "      <td>1</td>\n",
       "      <td>1</td>\n",
       "    </tr>\n",
       "    <tr>\n",
       "      <th>2</th>\n",
       "      <td>2021-01-01 09:53:00</td>\n",
       "      <td>동학개미 덕에 코스피 시가총액, 사상 최초 GDP 넘어선 듯</td>\n",
       "      <td>2</td>\n",
       "      <td>1</td>\n",
       "    </tr>\n",
       "    <tr>\n",
       "      <th>3</th>\n",
       "      <td>2021-01-01 10:01:00</td>\n",
       "      <td>4월부터 불법 공매도 감시·처벌 강화</td>\n",
       "      <td>1</td>\n",
       "      <td>1</td>\n",
       "    </tr>\n",
       "    <tr>\n",
       "      <th>4</th>\n",
       "      <td>2021-01-02 09:12:00</td>\n",
       "      <td>[2021 산업]⑤ 결국 AI서 결판난다...4대 그룹 현주소는</td>\n",
       "      <td>2</td>\n",
       "      <td>1</td>\n",
       "    </tr>\n",
       "  </tbody>\n",
       "</table>\n",
       "</div>"
      ],
      "text/plain": [
       "            key_rdate                              key_title  label  \\\n",
       "0 2021-01-01 08:05:00          \"새해 증시도 高高\"…고객예탁금 65.6조 사상 최고      1   \n",
       "1 2021-01-01 09:10:00  2020 뉴욕증시 '역대 최고치' 피날레…다우·S&P도 신기록 썼다      1   \n",
       "2 2021-01-01 09:53:00      동학개미 덕에 코스피 시가총액, 사상 최초 GDP 넘어선 듯      2   \n",
       "3 2021-01-01 10:01:00                   4월부터 불법 공매도 감시·처벌 강화      1   \n",
       "4 2021-01-02 09:12:00    [2021 산업]⑤ 결국 AI서 결판난다...4대 그룹 현주소는      2   \n",
       "\n",
       "   open_close  \n",
       "0           0  \n",
       "1           1  \n",
       "2           1  \n",
       "3           1  \n",
       "4           1  "
      ]
     },
     "execution_count": 194,
     "metadata": {},
     "output_type": "execute_result"
    }
   ],
   "source": [
    "def convert_open_close(d):\n",
    "    label = 0\n",
    "    if d.hour >= 9 and d.hour < 15:\n",
    "        label = 1\n",
    "    return label\n",
    "\n",
    "# open(장중)이면 1, close(장외)이면 0\n",
    "newsdf['open_close'] = newsdf['key_rdate'].apply(convert_open_close)\n",
    "newsdf.head()"
   ]
  },
  {
   "cell_type": "markdown",
   "id": "d5191714-89d6-400e-86ef-b4f168bc4217",
   "metadata": {
    "id": "d5191714-89d6-400e-86ef-b4f168bc4217"
   },
   "source": [
    "* 장마감후 저녁 Lableing\n",
    "    * 날짜처리를 위해 필요"
   ]
  },
  {
   "cell_type": "code",
   "execution_count": 195,
   "id": "402ac136-efd8-4149-abed-d17bbfd008d2",
   "metadata": {
    "id": "402ac136-efd8-4149-abed-d17bbfd008d2",
    "outputId": "1c73cf59-2958-4a21-a905-5872f04911a1",
    "tags": []
   },
   "outputs": [
    {
     "data": {
      "text/html": [
       "<div>\n",
       "<style scoped>\n",
       "    .dataframe tbody tr th:only-of-type {\n",
       "        vertical-align: middle;\n",
       "    }\n",
       "\n",
       "    .dataframe tbody tr th {\n",
       "        vertical-align: top;\n",
       "    }\n",
       "\n",
       "    .dataframe thead th {\n",
       "        text-align: right;\n",
       "    }\n",
       "</style>\n",
       "<table border=\"1\" class=\"dataframe\">\n",
       "  <thead>\n",
       "    <tr style=\"text-align: right;\">\n",
       "      <th></th>\n",
       "      <th>key_title</th>\n",
       "      <th>label</th>\n",
       "      <th>open_close</th>\n",
       "      <th>night</th>\n",
       "    </tr>\n",
       "    <tr>\n",
       "      <th>key_rdate</th>\n",
       "      <th></th>\n",
       "      <th></th>\n",
       "      <th></th>\n",
       "      <th></th>\n",
       "    </tr>\n",
       "  </thead>\n",
       "  <tbody>\n",
       "    <tr>\n",
       "      <th>2021-01-01</th>\n",
       "      <td>\"새해 증시도 高高\"…고객예탁금 65.6조 사상 최고</td>\n",
       "      <td>1</td>\n",
       "      <td>0</td>\n",
       "      <td>0</td>\n",
       "    </tr>\n",
       "    <tr>\n",
       "      <th>2021-01-02</th>\n",
       "      <td>2020 뉴욕증시 '역대 최고치' 피날레…다우·S&amp;P도 신기록 썼다</td>\n",
       "      <td>1</td>\n",
       "      <td>1</td>\n",
       "      <td>0</td>\n",
       "    </tr>\n",
       "    <tr>\n",
       "      <th>2021-01-02</th>\n",
       "      <td>동학개미 덕에 코스피 시가총액, 사상 최초 GDP 넘어선 듯</td>\n",
       "      <td>2</td>\n",
       "      <td>1</td>\n",
       "      <td>0</td>\n",
       "    </tr>\n",
       "    <tr>\n",
       "      <th>2021-01-02</th>\n",
       "      <td>4월부터 불법 공매도 감시·처벌 강화</td>\n",
       "      <td>1</td>\n",
       "      <td>1</td>\n",
       "      <td>0</td>\n",
       "    </tr>\n",
       "    <tr>\n",
       "      <th>2021-01-03</th>\n",
       "      <td>[2021 산업]⑤ 결국 AI서 결판난다...4대 그룹 현주소는</td>\n",
       "      <td>2</td>\n",
       "      <td>1</td>\n",
       "      <td>0</td>\n",
       "    </tr>\n",
       "  </tbody>\n",
       "</table>\n",
       "</div>"
      ],
      "text/plain": [
       "                                        key_title  label  open_close  night\n",
       "key_rdate                                                                  \n",
       "2021-01-01          \"새해 증시도 高高\"…고객예탁금 65.6조 사상 최고      1           0      0\n",
       "2021-01-02  2020 뉴욕증시 '역대 최고치' 피날레…다우·S&P도 신기록 썼다      1           1      0\n",
       "2021-01-02      동학개미 덕에 코스피 시가총액, 사상 최초 GDP 넘어선 듯      2           1      0\n",
       "2021-01-02                   4월부터 불법 공매도 감시·처벌 강화      1           1      0\n",
       "2021-01-03    [2021 산업]⑤ 결국 AI서 결판난다...4대 그룹 현주소는      2           1      0"
      ]
     },
     "execution_count": 195,
     "metadata": {},
     "output_type": "execute_result"
    }
   ],
   "source": [
    "def convert_night(d):\n",
    "    label = 0\n",
    "    if d.hour > 15 and d.hour <= 23:\n",
    "        label = 1\n",
    "    return label\n",
    "\n",
    "# 장마감 후 저녁 시간대면 1 아니면 0 \n",
    "newsdf['night'] = newsdf['key_rdate'].apply(convert_night)\n",
    "\n",
    "# 장이 마감했다면, 날짜를 다음날로 넘김.\n",
    "# 당일의 장중 뉴스는 다음날의 KOSPI를 예측하기 위해 활용되기 때문에 장중 뉴스도 다음날로 넘김.\n",
    "\n",
    "for i in range(len(newsdf)):\n",
    "    if newsdf.loc[i, 'night'] == 1:\n",
    "        newsdf.loc[i, 'key_rdate'] = newsdf.loc[i, 'key_rdate'] + datetime.timedelta(days=1)\n",
    "    elif newsdf.loc[i, 'open_close'] == 1:\n",
    "        newsdf.loc[i, 'key_rdate'] = newsdf.loc[i, 'key_rdate'] + datetime.timedelta(days=1)\n",
    "\n",
    "newsdf['key_rdate'] = newsdf['key_rdate'].dt.date\n",
    "newsdf = newsdf.set_index('key_rdate')\n",
    "newsdf.head()"
   ]
  },
  {
   "cell_type": "code",
   "execution_count": 196,
   "id": "0a7fdb77-284d-4a8c-a1e5-e6d992ae36a4",
   "metadata": {
    "id": "0a7fdb77-284d-4a8c-a1e5-e6d992ae36a4",
    "outputId": "cd56c61e-d5e7-4818-bf6e-fbac4931e47d",
    "tags": []
   },
   "outputs": [
    {
     "data": {
      "text/html": [
       "<div>\n",
       "<style scoped>\n",
       "    .dataframe tbody tr th:only-of-type {\n",
       "        vertical-align: middle;\n",
       "    }\n",
       "\n",
       "    .dataframe tbody tr th {\n",
       "        vertical-align: top;\n",
       "    }\n",
       "\n",
       "    .dataframe thead th {\n",
       "        text-align: right;\n",
       "    }\n",
       "</style>\n",
       "<table border=\"1\" class=\"dataframe\">\n",
       "  <thead>\n",
       "    <tr style=\"text-align: right;\">\n",
       "      <th></th>\n",
       "      <th>key_title</th>\n",
       "      <th>label</th>\n",
       "      <th>open_close</th>\n",
       "      <th>night</th>\n",
       "      <th>pos</th>\n",
       "      <th>neg</th>\n",
       "    </tr>\n",
       "    <tr>\n",
       "      <th>key_rdate</th>\n",
       "      <th></th>\n",
       "      <th></th>\n",
       "      <th></th>\n",
       "      <th></th>\n",
       "      <th></th>\n",
       "      <th></th>\n",
       "    </tr>\n",
       "  </thead>\n",
       "  <tbody>\n",
       "    <tr>\n",
       "      <th>2021-01-01</th>\n",
       "      <td>\"새해 증시도 高高\"…고객예탁금 65.6조 사상 최고</td>\n",
       "      <td>1</td>\n",
       "      <td>0</td>\n",
       "      <td>0</td>\n",
       "      <td>1</td>\n",
       "      <td>0</td>\n",
       "    </tr>\n",
       "    <tr>\n",
       "      <th>2021-01-02</th>\n",
       "      <td>2020 뉴욕증시 '역대 최고치' 피날레…다우·S&amp;P도 신기록 썼다</td>\n",
       "      <td>1</td>\n",
       "      <td>1</td>\n",
       "      <td>0</td>\n",
       "      <td>1</td>\n",
       "      <td>0</td>\n",
       "    </tr>\n",
       "    <tr>\n",
       "      <th>2021-01-02</th>\n",
       "      <td>동학개미 덕에 코스피 시가총액, 사상 최초 GDP 넘어선 듯</td>\n",
       "      <td>2</td>\n",
       "      <td>1</td>\n",
       "      <td>0</td>\n",
       "      <td>0</td>\n",
       "      <td>1</td>\n",
       "    </tr>\n",
       "    <tr>\n",
       "      <th>2021-01-02</th>\n",
       "      <td>4월부터 불법 공매도 감시·처벌 강화</td>\n",
       "      <td>1</td>\n",
       "      <td>1</td>\n",
       "      <td>0</td>\n",
       "      <td>1</td>\n",
       "      <td>0</td>\n",
       "    </tr>\n",
       "    <tr>\n",
       "      <th>2021-01-03</th>\n",
       "      <td>[2021 산업]⑤ 결국 AI서 결판난다...4대 그룹 현주소는</td>\n",
       "      <td>2</td>\n",
       "      <td>1</td>\n",
       "      <td>0</td>\n",
       "      <td>0</td>\n",
       "      <td>1</td>\n",
       "    </tr>\n",
       "  </tbody>\n",
       "</table>\n",
       "</div>"
      ],
      "text/plain": [
       "                                        key_title  label  open_close  night  \\\n",
       "key_rdate                                                                     \n",
       "2021-01-01          \"새해 증시도 高高\"…고객예탁금 65.6조 사상 최고      1           0      0   \n",
       "2021-01-02  2020 뉴욕증시 '역대 최고치' 피날레…다우·S&P도 신기록 썼다      1           1      0   \n",
       "2021-01-02      동학개미 덕에 코스피 시가총액, 사상 최초 GDP 넘어선 듯      2           1      0   \n",
       "2021-01-02                   4월부터 불법 공매도 감시·처벌 강화      1           1      0   \n",
       "2021-01-03    [2021 산업]⑤ 결국 AI서 결판난다...4대 그룹 현주소는      2           1      0   \n",
       "\n",
       "            pos  neg  \n",
       "key_rdate             \n",
       "2021-01-01    1    0  \n",
       "2021-01-02    1    0  \n",
       "2021-01-02    0    1  \n",
       "2021-01-02    1    0  \n",
       "2021-01-03    0    1  "
      ]
     },
     "execution_count": 196,
     "metadata": {},
     "output_type": "execute_result"
    }
   ],
   "source": [
    "newsdf['pos'] = np.where(newsdf['label']==1, 1, 0)\n",
    "newsdf['neg'] = np.where(newsdf['label']==2, 1, 0)\n",
    "newsdf.head()"
   ]
  },
  {
   "cell_type": "markdown",
   "id": "4235ed9b-20f7-4fd8-8769-ce83084c2a14",
   "metadata": {
    "id": "4235ed9b-20f7-4fd8-8769-ce83084c2a14"
   },
   "source": [
    "## 날짜별 그룹화"
   ]
  },
  {
   "cell_type": "code",
   "execution_count": 197,
   "id": "8defdc41-b958-40cc-ac06-b10ca4878307",
   "metadata": {
    "id": "8defdc41-b958-40cc-ac06-b10ca4878307",
    "outputId": "b4002735-075f-4a5e-f746-b0147c40326a",
    "tags": []
   },
   "outputs": [],
   "source": [
    "newsdfcnt = newsdf.groupby('key_rdate')['label'].count()\n",
    "grnewsdf = newsdf.groupby('key_rdate')[['pos', 'neg']].sum()\n",
    "\n",
    "newsdf2 = pd.concat([grnewsdf, newsdfcnt], axis=1)"
   ]
  },
  {
   "cell_type": "code",
   "execution_count": 198,
   "id": "ee7694c6-3fbb-4d79-a2cf-049a1cb98187",
   "metadata": {
    "id": "ee7694c6-3fbb-4d79-a2cf-049a1cb98187",
    "outputId": "070c70d4-f569-4cfa-f42b-981568407533",
    "tags": []
   },
   "outputs": [
    {
     "data": {
      "text/html": [
       "<div>\n",
       "<style scoped>\n",
       "    .dataframe tbody tr th:only-of-type {\n",
       "        vertical-align: middle;\n",
       "    }\n",
       "\n",
       "    .dataframe tbody tr th {\n",
       "        vertical-align: top;\n",
       "    }\n",
       "\n",
       "    .dataframe thead th {\n",
       "        text-align: right;\n",
       "    }\n",
       "</style>\n",
       "<table border=\"1\" class=\"dataframe\">\n",
       "  <thead>\n",
       "    <tr style=\"text-align: right;\">\n",
       "      <th></th>\n",
       "      <th>pos</th>\n",
       "      <th>neg</th>\n",
       "      <th>label</th>\n",
       "      <th>pos_rate</th>\n",
       "      <th>neg_rate</th>\n",
       "      <th>pos_neg_rate</th>\n",
       "      <th>pos_neg_wrate</th>\n",
       "    </tr>\n",
       "    <tr>\n",
       "      <th>key_rdate</th>\n",
       "      <th></th>\n",
       "      <th></th>\n",
       "      <th></th>\n",
       "      <th></th>\n",
       "      <th></th>\n",
       "      <th></th>\n",
       "      <th></th>\n",
       "    </tr>\n",
       "  </thead>\n",
       "  <tbody>\n",
       "    <tr>\n",
       "      <th>2021-01-01</th>\n",
       "      <td>1</td>\n",
       "      <td>0</td>\n",
       "      <td>1</td>\n",
       "      <td>1.000000</td>\n",
       "      <td>0.000000</td>\n",
       "      <td>1.000000</td>\n",
       "      <td>1.0</td>\n",
       "    </tr>\n",
       "    <tr>\n",
       "      <th>2021-01-02</th>\n",
       "      <td>2</td>\n",
       "      <td>1</td>\n",
       "      <td>3</td>\n",
       "      <td>0.666667</td>\n",
       "      <td>0.333333</td>\n",
       "      <td>0.333333</td>\n",
       "      <td>0.0</td>\n",
       "    </tr>\n",
       "    <tr>\n",
       "      <th>2021-01-03</th>\n",
       "      <td>2</td>\n",
       "      <td>1</td>\n",
       "      <td>3</td>\n",
       "      <td>0.666667</td>\n",
       "      <td>0.333333</td>\n",
       "      <td>0.333333</td>\n",
       "      <td>0.0</td>\n",
       "    </tr>\n",
       "  </tbody>\n",
       "</table>\n",
       "</div>"
      ],
      "text/plain": [
       "            pos  neg  label  pos_rate  neg_rate  pos_neg_rate  pos_neg_wrate\n",
       "key_rdate                                                                   \n",
       "2021-01-01    1    0      1  1.000000  0.000000      1.000000            1.0\n",
       "2021-01-02    2    1      3  0.666667  0.333333      0.333333            0.0\n",
       "2021-01-03    2    1      3  0.666667  0.333333      0.333333            0.0"
      ]
     },
     "execution_count": 198,
     "metadata": {},
     "output_type": "execute_result"
    }
   ],
   "source": [
    "newsdf2['pos_rate'] = newsdf2['pos']/newsdf2['label']\n",
    "newsdf2['neg_rate'] = newsdf2['neg']/newsdf2['label']\n",
    "newsdf2['pos_neg_rate'] = (newsdf2['pos']-newsdf2['neg'])/newsdf2['label']\n",
    "newsdf2['pos_neg_wrate'] = (newsdf2['pos']-(newsdf2['neg']*NEG_WEIGHT))/newsdf2['label']\n",
    "\n",
    "cidx = newsdf2[newsdf2['pos_neg_wrate']<-1].index\n",
    "newsdf2.loc[cidx, 'pos_neg_wrate'] = -1\n",
    "newsdf2.head(3)"
   ]
  },
  {
   "cell_type": "markdown",
   "id": "df6f5889-2890-4564-be9a-9f4dbe4aa984",
   "metadata": {
    "id": "df6f5889-2890-4564-be9a-9f4dbe4aa984"
   },
   "source": [
    "* 장중 뉴스"
   ]
  },
  {
   "cell_type": "code",
   "execution_count": 199,
   "id": "9f24c244-6a4a-4cb6-835d-defc44a18c31",
   "metadata": {
    "id": "9f24c244-6a4a-4cb6-835d-defc44a18c31",
    "outputId": "55776643-11f3-4f51-b11c-8e8be64f73ae",
    "tags": []
   },
   "outputs": [
    {
     "data": {
      "text/html": [
       "<div>\n",
       "<style scoped>\n",
       "    .dataframe tbody tr th:only-of-type {\n",
       "        vertical-align: middle;\n",
       "    }\n",
       "\n",
       "    .dataframe tbody tr th {\n",
       "        vertical-align: top;\n",
       "    }\n",
       "\n",
       "    .dataframe thead th {\n",
       "        text-align: right;\n",
       "    }\n",
       "</style>\n",
       "<table border=\"1\" class=\"dataframe\">\n",
       "  <thead>\n",
       "    <tr style=\"text-align: right;\">\n",
       "      <th></th>\n",
       "      <th>key_title</th>\n",
       "      <th>label</th>\n",
       "      <th>open_close</th>\n",
       "      <th>night</th>\n",
       "      <th>pos</th>\n",
       "      <th>neg</th>\n",
       "    </tr>\n",
       "    <tr>\n",
       "      <th>key_rdate</th>\n",
       "      <th></th>\n",
       "      <th></th>\n",
       "      <th></th>\n",
       "      <th></th>\n",
       "      <th></th>\n",
       "      <th></th>\n",
       "    </tr>\n",
       "  </thead>\n",
       "  <tbody>\n",
       "    <tr>\n",
       "      <th>2021-01-02</th>\n",
       "      <td>2020 뉴욕증시 '역대 최고치' 피날레…다우·S&amp;P도 신기록 썼다</td>\n",
       "      <td>1</td>\n",
       "      <td>1</td>\n",
       "      <td>0</td>\n",
       "      <td>1</td>\n",
       "      <td>0</td>\n",
       "    </tr>\n",
       "    <tr>\n",
       "      <th>2021-01-02</th>\n",
       "      <td>동학개미 덕에 코스피 시가총액, 사상 최초 GDP 넘어선 듯</td>\n",
       "      <td>2</td>\n",
       "      <td>1</td>\n",
       "      <td>0</td>\n",
       "      <td>0</td>\n",
       "      <td>1</td>\n",
       "    </tr>\n",
       "    <tr>\n",
       "      <th>2021-01-02</th>\n",
       "      <td>4월부터 불법 공매도 감시·처벌 강화</td>\n",
       "      <td>1</td>\n",
       "      <td>1</td>\n",
       "      <td>0</td>\n",
       "      <td>1</td>\n",
       "      <td>0</td>\n",
       "    </tr>\n",
       "  </tbody>\n",
       "</table>\n",
       "</div>"
      ],
      "text/plain": [
       "                                        key_title  label  open_close  night  \\\n",
       "key_rdate                                                                     \n",
       "2021-01-02  2020 뉴욕증시 '역대 최고치' 피날레…다우·S&P도 신기록 썼다      1           1      0   \n",
       "2021-01-02      동학개미 덕에 코스피 시가총액, 사상 최초 GDP 넘어선 듯      2           1      0   \n",
       "2021-01-02                   4월부터 불법 공매도 감시·처벌 강화      1           1      0   \n",
       "\n",
       "            pos  neg  \n",
       "key_rdate             \n",
       "2021-01-02    1    0  \n",
       "2021-01-02    0    1  \n",
       "2021-01-02    1    0  "
      ]
     },
     "execution_count": 199,
     "metadata": {},
     "output_type": "execute_result"
    }
   ],
   "source": [
    "opendf = newsdf[newsdf['open_close'] == 1]\n",
    "opendf.head(3)"
   ]
  },
  {
   "cell_type": "code",
   "execution_count": 200,
   "id": "a3c72b08-2691-4f63-9cba-30b9fb0f0838",
   "metadata": {
    "id": "a3c72b08-2691-4f63-9cba-30b9fb0f0838",
    "outputId": "7af43fa7-6813-4535-b69d-5a35e67a3095",
    "tags": []
   },
   "outputs": [
    {
     "data": {
      "text/html": [
       "<div>\n",
       "<style scoped>\n",
       "    .dataframe tbody tr th:only-of-type {\n",
       "        vertical-align: middle;\n",
       "    }\n",
       "\n",
       "    .dataframe tbody tr th {\n",
       "        vertical-align: top;\n",
       "    }\n",
       "\n",
       "    .dataframe thead th {\n",
       "        text-align: right;\n",
       "    }\n",
       "</style>\n",
       "<table border=\"1\" class=\"dataframe\">\n",
       "  <thead>\n",
       "    <tr style=\"text-align: right;\">\n",
       "      <th></th>\n",
       "      <th>pos</th>\n",
       "      <th>neg</th>\n",
       "      <th>label</th>\n",
       "    </tr>\n",
       "    <tr>\n",
       "      <th>key_rdate</th>\n",
       "      <th></th>\n",
       "      <th></th>\n",
       "      <th></th>\n",
       "    </tr>\n",
       "  </thead>\n",
       "  <tbody>\n",
       "    <tr>\n",
       "      <th>2021-01-02</th>\n",
       "      <td>2</td>\n",
       "      <td>1</td>\n",
       "      <td>3</td>\n",
       "    </tr>\n",
       "    <tr>\n",
       "      <th>2021-01-03</th>\n",
       "      <td>0</td>\n",
       "      <td>1</td>\n",
       "      <td>1</td>\n",
       "    </tr>\n",
       "    <tr>\n",
       "      <th>2021-01-04</th>\n",
       "      <td>8</td>\n",
       "      <td>1</td>\n",
       "      <td>9</td>\n",
       "    </tr>\n",
       "  </tbody>\n",
       "</table>\n",
       "</div>"
      ],
      "text/plain": [
       "            pos  neg  label\n",
       "key_rdate                  \n",
       "2021-01-02    2    1      3\n",
       "2021-01-03    0    1      1\n",
       "2021-01-04    8    1      9"
      ]
     },
     "execution_count": 200,
     "metadata": {},
     "output_type": "execute_result"
    }
   ],
   "source": [
    "preddfcnt = opendf.groupby('key_rdate')['label'].count()\n",
    "preddf_gr = opendf.groupby('key_rdate')[['pos', 'neg']].sum()\n",
    "\n",
    "cdf_open = pd.concat([preddf_gr, preddfcnt], axis=1)\n",
    "cdf_open.head(3)"
   ]
  },
  {
   "cell_type": "code",
   "execution_count": 201,
   "id": "94d699e9-8213-4047-95a6-e16c4eb9d2b4",
   "metadata": {
    "id": "94d699e9-8213-4047-95a6-e16c4eb9d2b4",
    "outputId": "4908c06c-0970-4614-92ca-5469f041ed7e",
    "tags": []
   },
   "outputs": [
    {
     "data": {
      "text/html": [
       "<div>\n",
       "<style scoped>\n",
       "    .dataframe tbody tr th:only-of-type {\n",
       "        vertical-align: middle;\n",
       "    }\n",
       "\n",
       "    .dataframe tbody tr th {\n",
       "        vertical-align: top;\n",
       "    }\n",
       "\n",
       "    .dataframe thead th {\n",
       "        text-align: right;\n",
       "    }\n",
       "</style>\n",
       "<table border=\"1\" class=\"dataframe\">\n",
       "  <thead>\n",
       "    <tr style=\"text-align: right;\">\n",
       "      <th></th>\n",
       "      <th>pos</th>\n",
       "      <th>neg</th>\n",
       "      <th>label</th>\n",
       "      <th>pos_rate</th>\n",
       "      <th>neg_rate</th>\n",
       "      <th>pos_neg_rate</th>\n",
       "      <th>pos_neg_wrate</th>\n",
       "    </tr>\n",
       "    <tr>\n",
       "      <th>key_rdate</th>\n",
       "      <th></th>\n",
       "      <th></th>\n",
       "      <th></th>\n",
       "      <th></th>\n",
       "      <th></th>\n",
       "      <th></th>\n",
       "      <th></th>\n",
       "    </tr>\n",
       "  </thead>\n",
       "  <tbody>\n",
       "    <tr>\n",
       "      <th>2021-01-02</th>\n",
       "      <td>2</td>\n",
       "      <td>1</td>\n",
       "      <td>3</td>\n",
       "      <td>0.666667</td>\n",
       "      <td>0.333333</td>\n",
       "      <td>0.333333</td>\n",
       "      <td>0.000000</td>\n",
       "    </tr>\n",
       "    <tr>\n",
       "      <th>2021-01-03</th>\n",
       "      <td>0</td>\n",
       "      <td>1</td>\n",
       "      <td>1</td>\n",
       "      <td>0.000000</td>\n",
       "      <td>1.000000</td>\n",
       "      <td>-1.000000</td>\n",
       "      <td>-1.000000</td>\n",
       "    </tr>\n",
       "    <tr>\n",
       "      <th>2021-01-04</th>\n",
       "      <td>8</td>\n",
       "      <td>1</td>\n",
       "      <td>9</td>\n",
       "      <td>0.888889</td>\n",
       "      <td>0.111111</td>\n",
       "      <td>0.777778</td>\n",
       "      <td>0.666667</td>\n",
       "    </tr>\n",
       "  </tbody>\n",
       "</table>\n",
       "</div>"
      ],
      "text/plain": [
       "            pos  neg  label  pos_rate  neg_rate  pos_neg_rate  pos_neg_wrate\n",
       "key_rdate                                                                   \n",
       "2021-01-02    2    1      3  0.666667  0.333333      0.333333       0.000000\n",
       "2021-01-03    0    1      1  0.000000  1.000000     -1.000000      -1.000000\n",
       "2021-01-04    8    1      9  0.888889  0.111111      0.777778       0.666667"
      ]
     },
     "execution_count": 201,
     "metadata": {},
     "output_type": "execute_result"
    }
   ],
   "source": [
    "cdf_open['pos_rate'] = cdf_open['pos']/cdf_open['label']\n",
    "cdf_open['neg_rate'] = cdf_open['neg']/cdf_open['label']\n",
    "cdf_open['pos_neg_rate'] = (cdf_open['pos']-cdf_open['neg'])/cdf_open['label']\n",
    "cdf_open['pos_neg_wrate'] = (cdf_open['pos']-(cdf_open['neg']*NEG_WEIGHT))/cdf_open['label']\n",
    "\n",
    "cidx = cdf_open[cdf_open['pos_neg_wrate']<-1].index\n",
    "cdf_open.loc[cidx, 'pos_neg_wrate'] = -1\n",
    "cdf_open.head(3)"
   ]
  },
  {
   "cell_type": "code",
   "execution_count": 202,
   "id": "2fabc011-3c05-4b4b-bc16-195a756e89fe",
   "metadata": {
    "tags": []
   },
   "outputs": [
    {
     "data": {
      "text/html": [
       "<div>\n",
       "<style scoped>\n",
       "    .dataframe tbody tr th:only-of-type {\n",
       "        vertical-align: middle;\n",
       "    }\n",
       "\n",
       "    .dataframe tbody tr th {\n",
       "        vertical-align: top;\n",
       "    }\n",
       "\n",
       "    .dataframe thead th {\n",
       "        text-align: right;\n",
       "    }\n",
       "</style>\n",
       "<table border=\"1\" class=\"dataframe\">\n",
       "  <thead>\n",
       "    <tr style=\"text-align: right;\">\n",
       "      <th></th>\n",
       "      <th>장중_긍정비율</th>\n",
       "      <th>장중_부정비율</th>\n",
       "      <th>장중_긍부정비율</th>\n",
       "    </tr>\n",
       "    <tr>\n",
       "      <th>key_rdate</th>\n",
       "      <th></th>\n",
       "      <th></th>\n",
       "      <th></th>\n",
       "    </tr>\n",
       "  </thead>\n",
       "  <tbody>\n",
       "    <tr>\n",
       "      <th>2021-01-02</th>\n",
       "      <td>0.666667</td>\n",
       "      <td>0.333333</td>\n",
       "      <td>0.000000</td>\n",
       "    </tr>\n",
       "    <tr>\n",
       "      <th>2021-01-03</th>\n",
       "      <td>0.000000</td>\n",
       "      <td>1.000000</td>\n",
       "      <td>-1.000000</td>\n",
       "    </tr>\n",
       "    <tr>\n",
       "      <th>2021-01-04</th>\n",
       "      <td>0.888889</td>\n",
       "      <td>0.111111</td>\n",
       "      <td>0.666667</td>\n",
       "    </tr>\n",
       "  </tbody>\n",
       "</table>\n",
       "</div>"
      ],
      "text/plain": [
       "             장중_긍정비율   장중_부정비율  장중_긍부정비율\n",
       "key_rdate                               \n",
       "2021-01-02  0.666667  0.333333  0.000000\n",
       "2021-01-03  0.000000  1.000000 -1.000000\n",
       "2021-01-04  0.888889  0.111111  0.666667"
      ]
     },
     "execution_count": 202,
     "metadata": {},
     "output_type": "execute_result"
    }
   ],
   "source": [
    "newsopen = cdf_open[['pos_rate', 'neg_rate', 'pos_neg_wrate']]\n",
    "newsopen.columns = ['장중_긍정비율','장중_부정비율','장중_긍부정비율']\n",
    "newsopen.head(3)"
   ]
  },
  {
   "cell_type": "code",
   "execution_count": 203,
   "id": "abeb4d4c-63c8-489e-87a6-1b96adc31504",
   "metadata": {},
   "outputs": [
    {
     "data": {
      "text/plain": [
       "876"
      ]
     },
     "execution_count": 203,
     "metadata": {},
     "output_type": "execute_result"
    }
   ],
   "source": [
    "len(newsopen)"
   ]
  },
  {
   "cell_type": "markdown",
   "id": "9f801f3b-1c73-4349-a156-db750270d81e",
   "metadata": {
    "id": "9f801f3b-1c73-4349-a156-db750270d81e"
   },
   "source": [
    "* 장마감후, 장전 뉴스"
   ]
  },
  {
   "cell_type": "code",
   "execution_count": 204,
   "id": "2226a8ab-ade9-40f2-9e65-42a3f0102422",
   "metadata": {
    "id": "2226a8ab-ade9-40f2-9e65-42a3f0102422",
    "outputId": "ccfd8a6d-7d8e-4db1-9f36-1abb476356af",
    "tags": []
   },
   "outputs": [
    {
     "data": {
      "text/html": [
       "<div>\n",
       "<style scoped>\n",
       "    .dataframe tbody tr th:only-of-type {\n",
       "        vertical-align: middle;\n",
       "    }\n",
       "\n",
       "    .dataframe tbody tr th {\n",
       "        vertical-align: top;\n",
       "    }\n",
       "\n",
       "    .dataframe thead th {\n",
       "        text-align: right;\n",
       "    }\n",
       "</style>\n",
       "<table border=\"1\" class=\"dataframe\">\n",
       "  <thead>\n",
       "    <tr style=\"text-align: right;\">\n",
       "      <th></th>\n",
       "      <th>pos</th>\n",
       "      <th>neg</th>\n",
       "      <th>label</th>\n",
       "    </tr>\n",
       "    <tr>\n",
       "      <th>key_rdate</th>\n",
       "      <th></th>\n",
       "      <th></th>\n",
       "      <th></th>\n",
       "    </tr>\n",
       "  </thead>\n",
       "  <tbody>\n",
       "    <tr>\n",
       "      <th>2021-01-01</th>\n",
       "      <td>1</td>\n",
       "      <td>0</td>\n",
       "      <td>1</td>\n",
       "    </tr>\n",
       "    <tr>\n",
       "      <th>2021-01-03</th>\n",
       "      <td>2</td>\n",
       "      <td>0</td>\n",
       "      <td>2</td>\n",
       "    </tr>\n",
       "    <tr>\n",
       "      <th>2021-01-04</th>\n",
       "      <td>22</td>\n",
       "      <td>2</td>\n",
       "      <td>24</td>\n",
       "    </tr>\n",
       "  </tbody>\n",
       "</table>\n",
       "</div>"
      ],
      "text/plain": [
       "            pos  neg  label\n",
       "key_rdate                  \n",
       "2021-01-01    1    0      1\n",
       "2021-01-03    2    0      2\n",
       "2021-01-04   22    2     24"
      ]
     },
     "execution_count": 204,
     "metadata": {},
     "output_type": "execute_result"
    }
   ],
   "source": [
    "closedf = newsdf[newsdf['open_close'] == 0]\n",
    "\n",
    "preddfcnt = closedf.groupby('key_rdate')['label'].count()\n",
    "preddf_gr = closedf.groupby('key_rdate')[['pos', 'neg']].sum()\n",
    "\n",
    "cdf_close = pd.concat([preddf_gr, preddfcnt], axis=1)\n",
    "cdf_close.head(3)"
   ]
  },
  {
   "cell_type": "code",
   "execution_count": 205,
   "id": "13bcf396-3277-424a-afa8-aee97c3d1cfd",
   "metadata": {
    "id": "13bcf396-3277-424a-afa8-aee97c3d1cfd",
    "outputId": "de72c609-3c2d-4f31-d42d-6d4dd6d053d3",
    "tags": []
   },
   "outputs": [
    {
     "data": {
      "text/html": [
       "<div>\n",
       "<style scoped>\n",
       "    .dataframe tbody tr th:only-of-type {\n",
       "        vertical-align: middle;\n",
       "    }\n",
       "\n",
       "    .dataframe tbody tr th {\n",
       "        vertical-align: top;\n",
       "    }\n",
       "\n",
       "    .dataframe thead th {\n",
       "        text-align: right;\n",
       "    }\n",
       "</style>\n",
       "<table border=\"1\" class=\"dataframe\">\n",
       "  <thead>\n",
       "    <tr style=\"text-align: right;\">\n",
       "      <th></th>\n",
       "      <th>pos</th>\n",
       "      <th>neg</th>\n",
       "      <th>label</th>\n",
       "      <th>pos_rate</th>\n",
       "      <th>neg_rate</th>\n",
       "      <th>pos_neg_rate</th>\n",
       "      <th>pos_neg_wrate</th>\n",
       "    </tr>\n",
       "    <tr>\n",
       "      <th>key_rdate</th>\n",
       "      <th></th>\n",
       "      <th></th>\n",
       "      <th></th>\n",
       "      <th></th>\n",
       "      <th></th>\n",
       "      <th></th>\n",
       "      <th></th>\n",
       "    </tr>\n",
       "  </thead>\n",
       "  <tbody>\n",
       "    <tr>\n",
       "      <th>2021-01-01</th>\n",
       "      <td>1</td>\n",
       "      <td>0</td>\n",
       "      <td>1</td>\n",
       "      <td>1.000000</td>\n",
       "      <td>0.000000</td>\n",
       "      <td>1.000000</td>\n",
       "      <td>1.00</td>\n",
       "    </tr>\n",
       "    <tr>\n",
       "      <th>2021-01-03</th>\n",
       "      <td>2</td>\n",
       "      <td>0</td>\n",
       "      <td>2</td>\n",
       "      <td>1.000000</td>\n",
       "      <td>0.000000</td>\n",
       "      <td>1.000000</td>\n",
       "      <td>1.00</td>\n",
       "    </tr>\n",
       "    <tr>\n",
       "      <th>2021-01-04</th>\n",
       "      <td>22</td>\n",
       "      <td>2</td>\n",
       "      <td>24</td>\n",
       "      <td>0.916667</td>\n",
       "      <td>0.083333</td>\n",
       "      <td>0.833333</td>\n",
       "      <td>0.75</td>\n",
       "    </tr>\n",
       "  </tbody>\n",
       "</table>\n",
       "</div>"
      ],
      "text/plain": [
       "            pos  neg  label  pos_rate  neg_rate  pos_neg_rate  pos_neg_wrate\n",
       "key_rdate                                                                   \n",
       "2021-01-01    1    0      1  1.000000  0.000000      1.000000           1.00\n",
       "2021-01-03    2    0      2  1.000000  0.000000      1.000000           1.00\n",
       "2021-01-04   22    2     24  0.916667  0.083333      0.833333           0.75"
      ]
     },
     "execution_count": 205,
     "metadata": {},
     "output_type": "execute_result"
    }
   ],
   "source": [
    "cdf_close['pos_rate'] = cdf_close['pos']/cdf_close['label']\n",
    "cdf_close['neg_rate'] = cdf_close['neg']/cdf_close['label']\n",
    "cdf_close['pos_neg_rate'] = (cdf_close['pos']-cdf_close['neg'])/cdf_close['label']\n",
    "cdf_close['pos_neg_wrate'] = (cdf_close['pos']-(cdf_close['neg']*2))/cdf_close['label']\n",
    "\n",
    "cidx = cdf_close[cdf_close['pos_neg_wrate']<-1].index\n",
    "cdf_close.loc[cidx, 'pos_neg_wrate'] = -1\n",
    "\n",
    "cdf_close.head(3)"
   ]
  },
  {
   "cell_type": "code",
   "execution_count": 206,
   "id": "4eb8afb5-bf96-4957-9990-53ad395bba86",
   "metadata": {
    "tags": []
   },
   "outputs": [
    {
     "data": {
      "text/html": [
       "<div>\n",
       "<style scoped>\n",
       "    .dataframe tbody tr th:only-of-type {\n",
       "        vertical-align: middle;\n",
       "    }\n",
       "\n",
       "    .dataframe tbody tr th {\n",
       "        vertical-align: top;\n",
       "    }\n",
       "\n",
       "    .dataframe thead th {\n",
       "        text-align: right;\n",
       "    }\n",
       "</style>\n",
       "<table border=\"1\" class=\"dataframe\">\n",
       "  <thead>\n",
       "    <tr style=\"text-align: right;\">\n",
       "      <th></th>\n",
       "      <th>장외_긍정비율</th>\n",
       "      <th>장외_부정비율</th>\n",
       "      <th>장외_긍부정비율</th>\n",
       "    </tr>\n",
       "    <tr>\n",
       "      <th>key_rdate</th>\n",
       "      <th></th>\n",
       "      <th></th>\n",
       "      <th></th>\n",
       "    </tr>\n",
       "  </thead>\n",
       "  <tbody>\n",
       "    <tr>\n",
       "      <th>2021-01-01</th>\n",
       "      <td>1.000000</td>\n",
       "      <td>0.000000</td>\n",
       "      <td>1.00</td>\n",
       "    </tr>\n",
       "    <tr>\n",
       "      <th>2021-01-03</th>\n",
       "      <td>1.000000</td>\n",
       "      <td>0.000000</td>\n",
       "      <td>1.00</td>\n",
       "    </tr>\n",
       "    <tr>\n",
       "      <th>2021-01-04</th>\n",
       "      <td>0.916667</td>\n",
       "      <td>0.083333</td>\n",
       "      <td>0.75</td>\n",
       "    </tr>\n",
       "  </tbody>\n",
       "</table>\n",
       "</div>"
      ],
      "text/plain": [
       "             장외_긍정비율   장외_부정비율  장외_긍부정비율\n",
       "key_rdate                               \n",
       "2021-01-01  1.000000  0.000000      1.00\n",
       "2021-01-03  1.000000  0.000000      1.00\n",
       "2021-01-04  0.916667  0.083333      0.75"
      ]
     },
     "execution_count": 206,
     "metadata": {},
     "output_type": "execute_result"
    }
   ],
   "source": [
    "newsclose = cdf_close[['pos_rate', 'neg_rate', 'pos_neg_wrate']]\n",
    "newsclose.columns = ['장외_긍정비율','장외_부정비율','장외_긍부정비율']\n",
    "newsclose.head(3)"
   ]
  },
  {
   "cell_type": "markdown",
   "id": "34935dd3-5641-4fb0-80b2-0fe703780d04",
   "metadata": {},
   "source": [
    "# DataFrame Concat"
   ]
  },
  {
   "cell_type": "code",
   "execution_count": 207,
   "id": "af1138d8-da5a-4cdd-867b-fd26fc23e1be",
   "metadata": {
    "tags": []
   },
   "outputs": [
    {
     "data": {
      "text/html": [
       "<div>\n",
       "<style scoped>\n",
       "    .dataframe tbody tr th:only-of-type {\n",
       "        vertical-align: middle;\n",
       "    }\n",
       "\n",
       "    .dataframe tbody tr th {\n",
       "        vertical-align: top;\n",
       "    }\n",
       "\n",
       "    .dataframe thead th {\n",
       "        text-align: right;\n",
       "    }\n",
       "</style>\n",
       "<table border=\"1\" class=\"dataframe\">\n",
       "  <thead>\n",
       "    <tr style=\"text-align: right;\">\n",
       "      <th></th>\n",
       "      <th>장중_긍정비율</th>\n",
       "      <th>장중_부정비율</th>\n",
       "      <th>장중_긍부정비율</th>\n",
       "      <th>장외_긍정비율</th>\n",
       "      <th>장외_부정비율</th>\n",
       "      <th>장외_긍부정비율</th>\n",
       "      <th>등락률</th>\n",
       "      <th>등락여부</th>\n",
       "    </tr>\n",
       "  </thead>\n",
       "  <tbody>\n",
       "    <tr>\n",
       "      <th>2021-01-04</th>\n",
       "      <td>0.888889</td>\n",
       "      <td>0.111111</td>\n",
       "      <td>0.666667</td>\n",
       "      <td>0.916667</td>\n",
       "      <td>0.083333</td>\n",
       "      <td>0.750000</td>\n",
       "      <td>2.47</td>\n",
       "      <td>1.0</td>\n",
       "    </tr>\n",
       "    <tr>\n",
       "      <th>2021-01-05</th>\n",
       "      <td>0.951613</td>\n",
       "      <td>0.048387</td>\n",
       "      <td>0.854839</td>\n",
       "      <td>0.900000</td>\n",
       "      <td>0.100000</td>\n",
       "      <td>0.700000</td>\n",
       "      <td>1.57</td>\n",
       "      <td>1.0</td>\n",
       "    </tr>\n",
       "    <tr>\n",
       "      <th>2021-01-06</th>\n",
       "      <td>0.837209</td>\n",
       "      <td>0.162791</td>\n",
       "      <td>0.511628</td>\n",
       "      <td>0.864865</td>\n",
       "      <td>0.135135</td>\n",
       "      <td>0.594595</td>\n",
       "      <td>-0.75</td>\n",
       "      <td>0.0</td>\n",
       "    </tr>\n",
       "    <tr>\n",
       "      <th>2021-01-07</th>\n",
       "      <td>0.850746</td>\n",
       "      <td>0.149254</td>\n",
       "      <td>0.552239</td>\n",
       "      <td>0.897436</td>\n",
       "      <td>0.102564</td>\n",
       "      <td>0.692308</td>\n",
       "      <td>2.14</td>\n",
       "      <td>1.0</td>\n",
       "    </tr>\n",
       "    <tr>\n",
       "      <th>2021-01-08</th>\n",
       "      <td>1.000000</td>\n",
       "      <td>0.000000</td>\n",
       "      <td>1.000000</td>\n",
       "      <td>0.929825</td>\n",
       "      <td>0.070175</td>\n",
       "      <td>0.789474</td>\n",
       "      <td>3.97</td>\n",
       "      <td>1.0</td>\n",
       "    </tr>\n",
       "    <tr>\n",
       "      <th>...</th>\n",
       "      <td>...</td>\n",
       "      <td>...</td>\n",
       "      <td>...</td>\n",
       "      <td>...</td>\n",
       "      <td>...</td>\n",
       "      <td>...</td>\n",
       "      <td>...</td>\n",
       "      <td>...</td>\n",
       "    </tr>\n",
       "    <tr>\n",
       "      <th>2023-05-24</th>\n",
       "      <td>0.954545</td>\n",
       "      <td>0.045455</td>\n",
       "      <td>0.863636</td>\n",
       "      <td>0.869565</td>\n",
       "      <td>0.130435</td>\n",
       "      <td>0.608696</td>\n",
       "      <td>0.00</td>\n",
       "      <td>1.0</td>\n",
       "    </tr>\n",
       "    <tr>\n",
       "      <th>2023-05-25</th>\n",
       "      <td>0.766667</td>\n",
       "      <td>0.233333</td>\n",
       "      <td>0.300000</td>\n",
       "      <td>0.611111</td>\n",
       "      <td>0.388889</td>\n",
       "      <td>-0.166667</td>\n",
       "      <td>-0.50</td>\n",
       "      <td>0.0</td>\n",
       "    </tr>\n",
       "    <tr>\n",
       "      <th>2023-05-26</th>\n",
       "      <td>0.821429</td>\n",
       "      <td>0.178571</td>\n",
       "      <td>0.464286</td>\n",
       "      <td>0.653846</td>\n",
       "      <td>0.346154</td>\n",
       "      <td>-0.038462</td>\n",
       "      <td>0.16</td>\n",
       "      <td>1.0</td>\n",
       "    </tr>\n",
       "    <tr>\n",
       "      <th>2023-05-30</th>\n",
       "      <td>1.000000</td>\n",
       "      <td>0.000000</td>\n",
       "      <td>1.000000</td>\n",
       "      <td>0.925926</td>\n",
       "      <td>0.074074</td>\n",
       "      <td>0.777778</td>\n",
       "      <td>1.04</td>\n",
       "      <td>1.0</td>\n",
       "    </tr>\n",
       "    <tr>\n",
       "      <th>2023-05-31</th>\n",
       "      <td>0.864865</td>\n",
       "      <td>0.135135</td>\n",
       "      <td>0.594595</td>\n",
       "      <td>0.843137</td>\n",
       "      <td>0.156863</td>\n",
       "      <td>0.529412</td>\n",
       "      <td>-0.32</td>\n",
       "      <td>0.0</td>\n",
       "    </tr>\n",
       "  </tbody>\n",
       "</table>\n",
       "<p>596 rows × 8 columns</p>\n",
       "</div>"
      ],
      "text/plain": [
       "             장중_긍정비율   장중_부정비율  장중_긍부정비율   장외_긍정비율   장외_부정비율  장외_긍부정비율   등락률  \\\n",
       "2021-01-04  0.888889  0.111111  0.666667  0.916667  0.083333  0.750000  2.47   \n",
       "2021-01-05  0.951613  0.048387  0.854839  0.900000  0.100000  0.700000  1.57   \n",
       "2021-01-06  0.837209  0.162791  0.511628  0.864865  0.135135  0.594595 -0.75   \n",
       "2021-01-07  0.850746  0.149254  0.552239  0.897436  0.102564  0.692308  2.14   \n",
       "2021-01-08  1.000000  0.000000  1.000000  0.929825  0.070175  0.789474  3.97   \n",
       "...              ...       ...       ...       ...       ...       ...   ...   \n",
       "2023-05-24  0.954545  0.045455  0.863636  0.869565  0.130435  0.608696  0.00   \n",
       "2023-05-25  0.766667  0.233333  0.300000  0.611111  0.388889 -0.166667 -0.50   \n",
       "2023-05-26  0.821429  0.178571  0.464286  0.653846  0.346154 -0.038462  0.16   \n",
       "2023-05-30  1.000000  0.000000  1.000000  0.925926  0.074074  0.777778  1.04   \n",
       "2023-05-31  0.864865  0.135135  0.594595  0.843137  0.156863  0.529412 -0.32   \n",
       "\n",
       "            등락여부  \n",
       "2021-01-04   1.0  \n",
       "2021-01-05   1.0  \n",
       "2021-01-06   0.0  \n",
       "2021-01-07   1.0  \n",
       "2021-01-08   1.0  \n",
       "...          ...  \n",
       "2023-05-24   1.0  \n",
       "2023-05-25   0.0  \n",
       "2023-05-26   1.0  \n",
       "2023-05-30   1.0  \n",
       "2023-05-31   0.0  \n",
       "\n",
       "[596 rows x 8 columns]"
      ]
     },
     "execution_count": 207,
     "metadata": {},
     "output_type": "execute_result"
    }
   ],
   "source": [
    "df = pd.merge(newsopen, newsclose, left_index=True, right_index=True, how='outer')\n",
    "df = df.dropna()\n",
    "\n",
    "df = pd.merge(df, kospi, left_index=True, right_index=True, how='outer')\n",
    "df = df.dropna()\n",
    "df  # KOSPI 개수만큼 나옴 dataframe 생성됨."
   ]
  },
  {
   "cell_type": "code",
   "execution_count": 208,
   "id": "5ac281e6-33c9-4c38-942e-fdf3c3353c6d",
   "metadata": {
    "tags": []
   },
   "outputs": [],
   "source": [
    "train = df[df.index.year < 2023]\n",
    "test = df[df.index.year == 2023]"
   ]
  },
  {
   "cell_type": "code",
   "execution_count": 209,
   "id": "947065a1-63dc-4dd3-a47d-c21235699527",
   "metadata": {
    "tags": []
   },
   "outputs": [
    {
     "data": {
      "text/html": [
       "<div>\n",
       "<style scoped>\n",
       "    .dataframe tbody tr th:only-of-type {\n",
       "        vertical-align: middle;\n",
       "    }\n",
       "\n",
       "    .dataframe tbody tr th {\n",
       "        vertical-align: top;\n",
       "    }\n",
       "\n",
       "    .dataframe thead th {\n",
       "        text-align: right;\n",
       "    }\n",
       "</style>\n",
       "<table border=\"1\" class=\"dataframe\">\n",
       "  <thead>\n",
       "    <tr style=\"text-align: right;\">\n",
       "      <th></th>\n",
       "      <th>장중_긍정비율</th>\n",
       "      <th>장중_부정비율</th>\n",
       "      <th>장중_긍부정비율</th>\n",
       "      <th>장외_긍정비율</th>\n",
       "      <th>장외_부정비율</th>\n",
       "      <th>장외_긍부정비율</th>\n",
       "      <th>등락률</th>\n",
       "      <th>등락여부</th>\n",
       "    </tr>\n",
       "  </thead>\n",
       "  <tbody>\n",
       "    <tr>\n",
       "      <th>2021-01-04</th>\n",
       "      <td>0.888889</td>\n",
       "      <td>0.111111</td>\n",
       "      <td>0.666667</td>\n",
       "      <td>0.916667</td>\n",
       "      <td>0.083333</td>\n",
       "      <td>0.750000</td>\n",
       "      <td>2.47</td>\n",
       "      <td>1.0</td>\n",
       "    </tr>\n",
       "    <tr>\n",
       "      <th>2021-01-05</th>\n",
       "      <td>0.951613</td>\n",
       "      <td>0.048387</td>\n",
       "      <td>0.854839</td>\n",
       "      <td>0.900000</td>\n",
       "      <td>0.100000</td>\n",
       "      <td>0.700000</td>\n",
       "      <td>1.57</td>\n",
       "      <td>1.0</td>\n",
       "    </tr>\n",
       "    <tr>\n",
       "      <th>2021-01-06</th>\n",
       "      <td>0.837209</td>\n",
       "      <td>0.162791</td>\n",
       "      <td>0.511628</td>\n",
       "      <td>0.864865</td>\n",
       "      <td>0.135135</td>\n",
       "      <td>0.594595</td>\n",
       "      <td>-0.75</td>\n",
       "      <td>0.0</td>\n",
       "    </tr>\n",
       "    <tr>\n",
       "      <th>2021-01-07</th>\n",
       "      <td>0.850746</td>\n",
       "      <td>0.149254</td>\n",
       "      <td>0.552239</td>\n",
       "      <td>0.897436</td>\n",
       "      <td>0.102564</td>\n",
       "      <td>0.692308</td>\n",
       "      <td>2.14</td>\n",
       "      <td>1.0</td>\n",
       "    </tr>\n",
       "    <tr>\n",
       "      <th>2021-01-08</th>\n",
       "      <td>1.000000</td>\n",
       "      <td>0.000000</td>\n",
       "      <td>1.000000</td>\n",
       "      <td>0.929825</td>\n",
       "      <td>0.070175</td>\n",
       "      <td>0.789474</td>\n",
       "      <td>3.97</td>\n",
       "      <td>1.0</td>\n",
       "    </tr>\n",
       "  </tbody>\n",
       "</table>\n",
       "</div>"
      ],
      "text/plain": [
       "             장중_긍정비율   장중_부정비율  장중_긍부정비율   장외_긍정비율   장외_부정비율  장외_긍부정비율   등락률  \\\n",
       "2021-01-04  0.888889  0.111111  0.666667  0.916667  0.083333  0.750000  2.47   \n",
       "2021-01-05  0.951613  0.048387  0.854839  0.900000  0.100000  0.700000  1.57   \n",
       "2021-01-06  0.837209  0.162791  0.511628  0.864865  0.135135  0.594595 -0.75   \n",
       "2021-01-07  0.850746  0.149254  0.552239  0.897436  0.102564  0.692308  2.14   \n",
       "2021-01-08  1.000000  0.000000  1.000000  0.929825  0.070175  0.789474  3.97   \n",
       "\n",
       "            등락여부  \n",
       "2021-01-04   1.0  \n",
       "2021-01-05   1.0  \n",
       "2021-01-06   0.0  \n",
       "2021-01-07   1.0  \n",
       "2021-01-08   1.0  "
      ]
     },
     "execution_count": 209,
     "metadata": {},
     "output_type": "execute_result"
    }
   ],
   "source": [
    "train.head()"
   ]
  },
  {
   "cell_type": "code",
   "execution_count": 210,
   "id": "d3ec4b32-a17b-4717-8537-5798eac3f924",
   "metadata": {
    "tags": []
   },
   "outputs": [
    {
     "data": {
      "text/html": [
       "<div>\n",
       "<style scoped>\n",
       "    .dataframe tbody tr th:only-of-type {\n",
       "        vertical-align: middle;\n",
       "    }\n",
       "\n",
       "    .dataframe tbody tr th {\n",
       "        vertical-align: top;\n",
       "    }\n",
       "\n",
       "    .dataframe thead th {\n",
       "        text-align: right;\n",
       "    }\n",
       "</style>\n",
       "<table border=\"1\" class=\"dataframe\">\n",
       "  <thead>\n",
       "    <tr style=\"text-align: right;\">\n",
       "      <th></th>\n",
       "      <th>장중_긍정비율</th>\n",
       "      <th>장중_부정비율</th>\n",
       "      <th>장중_긍부정비율</th>\n",
       "      <th>장외_긍정비율</th>\n",
       "      <th>장외_부정비율</th>\n",
       "      <th>장외_긍부정비율</th>\n",
       "      <th>등락률</th>\n",
       "      <th>등락여부</th>\n",
       "    </tr>\n",
       "  </thead>\n",
       "  <tbody>\n",
       "    <tr>\n",
       "      <th>2023-01-02</th>\n",
       "      <td>0.666667</td>\n",
       "      <td>0.333333</td>\n",
       "      <td>0.000000</td>\n",
       "      <td>0.600000</td>\n",
       "      <td>0.400000</td>\n",
       "      <td>-0.200000</td>\n",
       "      <td>-0.48</td>\n",
       "      <td>0.0</td>\n",
       "    </tr>\n",
       "    <tr>\n",
       "      <th>2023-01-03</th>\n",
       "      <td>0.843750</td>\n",
       "      <td>0.156250</td>\n",
       "      <td>0.531250</td>\n",
       "      <td>0.606061</td>\n",
       "      <td>0.393939</td>\n",
       "      <td>-0.181818</td>\n",
       "      <td>-0.31</td>\n",
       "      <td>0.0</td>\n",
       "    </tr>\n",
       "    <tr>\n",
       "      <th>2023-01-04</th>\n",
       "      <td>0.794872</td>\n",
       "      <td>0.205128</td>\n",
       "      <td>0.384615</td>\n",
       "      <td>0.657895</td>\n",
       "      <td>0.342105</td>\n",
       "      <td>-0.026316</td>\n",
       "      <td>1.68</td>\n",
       "      <td>1.0</td>\n",
       "    </tr>\n",
       "    <tr>\n",
       "      <th>2023-01-05</th>\n",
       "      <td>0.854167</td>\n",
       "      <td>0.145833</td>\n",
       "      <td>0.562500</td>\n",
       "      <td>0.847826</td>\n",
       "      <td>0.152174</td>\n",
       "      <td>0.543478</td>\n",
       "      <td>0.38</td>\n",
       "      <td>1.0</td>\n",
       "    </tr>\n",
       "    <tr>\n",
       "      <th>2023-01-06</th>\n",
       "      <td>0.900000</td>\n",
       "      <td>0.100000</td>\n",
       "      <td>0.700000</td>\n",
       "      <td>0.606061</td>\n",
       "      <td>0.393939</td>\n",
       "      <td>-0.181818</td>\n",
       "      <td>1.12</td>\n",
       "      <td>1.0</td>\n",
       "    </tr>\n",
       "  </tbody>\n",
       "</table>\n",
       "</div>"
      ],
      "text/plain": [
       "             장중_긍정비율   장중_부정비율  장중_긍부정비율   장외_긍정비율   장외_부정비율  장외_긍부정비율   등락률  \\\n",
       "2023-01-02  0.666667  0.333333  0.000000  0.600000  0.400000 -0.200000 -0.48   \n",
       "2023-01-03  0.843750  0.156250  0.531250  0.606061  0.393939 -0.181818 -0.31   \n",
       "2023-01-04  0.794872  0.205128  0.384615  0.657895  0.342105 -0.026316  1.68   \n",
       "2023-01-05  0.854167  0.145833  0.562500  0.847826  0.152174  0.543478  0.38   \n",
       "2023-01-06  0.900000  0.100000  0.700000  0.606061  0.393939 -0.181818  1.12   \n",
       "\n",
       "            등락여부  \n",
       "2023-01-02   0.0  \n",
       "2023-01-03   0.0  \n",
       "2023-01-04   1.0  \n",
       "2023-01-05   1.0  \n",
       "2023-01-06   1.0  "
      ]
     },
     "execution_count": 210,
     "metadata": {},
     "output_type": "execute_result"
    }
   ],
   "source": [
    "test.head()"
   ]
  },
  {
   "cell_type": "code",
   "execution_count": 211,
   "id": "aa8d39bf-0a7c-4d4c-b309-1c8a75d5bc70",
   "metadata": {},
   "outputs": [],
   "source": [
    "# train.to_csv('./datasets/traindf.csv')\n",
    "# test.to_csv('./datasets/testdf.csv')"
   ]
  },
  {
   "cell_type": "markdown",
   "id": "d4e25bd5-acdc-4b9b-8841-10b3c7aee552",
   "metadata": {},
   "source": [
    "# Make Sequence data"
   ]
  },
  {
   "cell_type": "code",
   "execution_count": 212,
   "id": "c0d72866-d010-44ac-b19c-7434107bdf0b",
   "metadata": {},
   "outputs": [],
   "source": [
    "# 학습 데이터 생성 (입력데이터 X, 결과 데이터 Y)\n",
    "X = []\n",
    "Y = []\n",
    "for i in range(5, len(train)):\n",
    "    temp = []\n",
    "    for j in range(5, 0, -1):\n",
    "        temp.append(train.iloc[i-j, :3])\n",
    "        temp.append(train.iloc[i-j, 3:6])\n",
    "    X.append(temp)\n",
    "    Y.append([train.iloc[i,7]])\n",
    "    \n",
    "X = np.array(X)\n",
    "Y = np.array(Y)"
   ]
  },
  {
   "cell_type": "code",
   "execution_count": 213,
   "id": "fef32bb6-0d29-4390-96b9-9aecd741da40",
   "metadata": {
    "tags": []
   },
   "outputs": [],
   "source": [
    "# np.save('./datasets/lstm_input/x_train1.npy', X)\n",
    "# np.save('./datasets/lstm_input/y_train1.npy', Y)"
   ]
  },
  {
   "cell_type": "markdown",
   "id": "1d949c38-d838-485e-83bf-add0d5b68ef8",
   "metadata": {
    "tags": []
   },
   "source": [
    "# Train data Load (Concat)"
   ]
  },
  {
   "cell_type": "code",
   "execution_count": 214,
   "id": "ccb63c60-47d6-4cca-9bd4-6f9569ce0881",
   "metadata": {
    "tags": []
   },
   "outputs": [],
   "source": [
    "x1 = np.load('./datasets/lstm_input/x_train1.npy')\n",
    "x2 = np.load('./datasets/lstm_input/x_train2.npy')\n",
    "x3= np.load('./datasets/lstm_input/x_train3.npy')\n",
    "\n",
    "y1 = np.load('./datasets/lstm_input/y_train1.npy')\n",
    "y2 = np.load('./datasets/lstm_input/y_train2.npy')\n",
    "y3 = np.load('./datasets/lstm_input/y_train3.npy')"
   ]
  },
  {
   "cell_type": "code",
   "execution_count": 215,
   "id": "823fee8e-1732-4ffc-a192-d45ebb17f933",
   "metadata": {
    "tags": []
   },
   "outputs": [],
   "source": [
    "ylist1 = []\n",
    "\n",
    "for i in range(len(y1)):\n",
    "    if y1[i][0] > 0:\n",
    "        ylist1.append([1])\n",
    "    else:\n",
    "        ylist1.append([0])\n",
    "\n",
    "ylist2 = []\n",
    "\n",
    "for i in range(len(y2)):\n",
    "    if y2[i][0] > 0:\n",
    "        ylist2.append([1])\n",
    "    else:\n",
    "        ylist2.append([0])\n",
    "    \n",
    "ylist3 = []\n",
    "\n",
    "for i in range(len(y3)):\n",
    "    if y3[i][0] > 0:\n",
    "        ylist3.append([1])\n",
    "    else:\n",
    "        ylist3.append([0])"
   ]
  },
  {
   "cell_type": "code",
   "execution_count": 216,
   "id": "a505317e-5b2b-4b3c-ae83-8ccbd9cf1cfc",
   "metadata": {
    "tags": []
   },
   "outputs": [],
   "source": [
    "X = np.concatenate((x1, x2, x3), axis=0)\n",
    "Y = np.concatenate((ylist1, ylist2, ylist3), axis=0)"
   ]
  },
  {
   "cell_type": "code",
   "execution_count": 217,
   "id": "0dec546c-a211-45d0-988d-74c727a1c97b",
   "metadata": {
    "tags": []
   },
   "outputs": [],
   "source": [
    "# Test 데이터 (입력데이터 X, 결과 데이터 Y)\n",
    "X_test = []\n",
    "Y_test = []\n",
    "for i in range(5, len(test)):\n",
    "    temp = []\n",
    "    for j in range(5, 0, -1):\n",
    "        temp.append(test.iloc[i-j, :3])\n",
    "        temp.append(test.iloc[i-j, 3:6])\n",
    "    X_test.append(temp)\n",
    "    Y_test.append([test.iloc[i,7]])\n",
    "    \n",
    "X_test = np.array(X_test)\n",
    "Y_test = np.array(Y_test)"
   ]
  },
  {
   "cell_type": "markdown",
   "id": "60d215df-1509-4e8a-9909-8e9e175d599e",
   "metadata": {},
   "source": [
    "# Model Train & Test"
   ]
  },
  {
   "cell_type": "code",
   "execution_count": 218,
   "id": "d20c07a0-5580-4127-8636-10431c60da09",
   "metadata": {
    "tags": []
   },
   "outputs": [],
   "source": [
    "# LSTM 모델 구성\n",
    "# LSTM 레이어 50개층, Dense 레이어 1개층으로 구성된 모델\n",
    "\n",
    "leaky_relu = tf.nn.leaky_relu\n",
    "\n",
    "# 최고 성능의 모델 파일을 저장할 이름과 경로 설정\n",
    "BEST_MODEL_NAME = './model/lstm_cl_model2_v2.h5'\n",
    "\n",
    "model_checkpoint = ModelCheckpoint(\n",
    "    filepath = BEST_MODEL_NAME,\n",
    "    monitor = \"val_accuracy\",\n",
    "    mode = \"max\",\n",
    "    save_best_only = True, # 성능 향상 시에만 모델 저장\n",
    "    verbose = 1\n",
    ")\n",
    "callbacks = [model_checkpoint]\n",
    "\n",
    "\n",
    "model = Sequential()\n",
    "model.add(LSTM(50, input_shape=(10, 3),return_sequences=True))\n",
    "model.add(LSTM(20))\n",
    "model.add(Dense(10, activation=leaky_relu))\n",
    "model.add(Dense(1, activation='sigmoid'))\n",
    "model.compile(loss='binary_crossentropy', optimizer='adam',  metrics=['accuracy'])  # 'adam'\n",
    "\n",
    "\n",
    "# 모델 학습, epochs=100 는 100회 학습을 의미한다.\n",
    "model.fit(X, Y, epochs=100, batch_size=32, validation_data = (X_test, Y_test), callbacks = callbacks)"
   ]
  },
  {
   "cell_type": "code",
   "execution_count": 219,
   "id": "519dd9b2-52da-4900-968b-9bc896304bbf",
   "metadata": {
    "tags": []
   },
   "outputs": [
    {
     "name": "stdout",
     "output_type": "stream",
     "text": [
      "4/4 [==============================] - 1s 4ms/step\n"
     ]
    },
    {
     "data": {
      "text/plain": [
       "0.8144329896907216"
      ]
     },
     "execution_count": 219,
     "metadata": {},
     "output_type": "execute_result"
    }
   ],
   "source": [
    "model = tf.keras.models.load_model('./model/lstm_cl_model2_v2.h5')\n",
    "pred= model.predict(X_test)\n",
    "pred_label = []\n",
    "for p in pred:\n",
    "    if p >= 0.5:\n",
    "        pred_label.append(1)\n",
    "    else:\n",
    "        pred_label.append(0)\n",
    "acc = accuracy_score(Y_test, pred_label)\n",
    "acc"
   ]
  },
  {
   "cell_type": "code",
   "execution_count": 220,
   "id": "f4cc4b21-ff6d-4541-abd4-b4a3f063a1f8",
   "metadata": {
    "tags": []
   },
   "outputs": [
    {
     "data": {
      "text/plain": [
       "array([[25, 12],\n",
       "       [ 6, 54]], dtype=int64)"
      ]
     },
     "execution_count": 220,
     "metadata": {},
     "output_type": "execute_result"
    }
   ],
   "source": [
    "confusion_matrix(Y_test, pred_label)"
   ]
  },
  {
   "cell_type": "code",
   "execution_count": 221,
   "id": "3ca20b32-655a-46d4-90df-1c83ee0fb77c",
   "metadata": {
    "tags": []
   },
   "outputs": [
    {
     "data": {
      "image/png": "[encoded data removed]",
      "text/plain": [
       "<Figure size 640x480 with 2 Axes>"
      ]
     },
     "metadata": {},
     "output_type": "display_data"
    }
   ],
   "source": [
    "sns.heatmap(confusion_matrix(Y_test, pred_label), annot=True)\n",
    "plt.show()"
   ]
  },
  {
   "cell_type": "code",
   "execution_count": 222,
   "id": "1191f320-2f15-49c3-a727-9743b1455e2c",
   "metadata": {
    "tags": []
   },
   "outputs": [],
   "source": [
    "from keras.layers import Bidirectional\n",
    "\n",
    "# 최고 성능의 모델 파일을 저장할 이름과 경로 설정\n",
    "BEST_MODEL_NAME = './model/bi-lstm_cl_model2_v2.h5'\n",
    "\n",
    "\n",
    "model_checkpoint = ModelCheckpoint(\n",
    "    filepath = BEST_MODEL_NAME,\n",
    "    monitor = \"val_accuracy\",\n",
    "    mode = \"max\",\n",
    "    save_best_only = True, # 성능 향상 시에만 모델 저장\n",
    "    verbose = 1\n",
    ")\n",
    "\n",
    "\n",
    "# LSTM 모델 구성\n",
    "# LSTM 레이어 50개층, Dense 레이어 1개층으로 구성된 모델\n",
    "\n",
    "callbacks = [model_checkpoint]\n",
    "\n",
    "\n",
    "leaky_relu = tf.nn.leaky_relu\n",
    "\n",
    "model = Sequential()\n",
    "model.add(Bidirectional(LSTM(50, return_sequences=True), input_shape = (10,3)))\n",
    "model.add(Bidirectional(LSTM(20)))\n",
    "model.add(Dense(10, activation=leaky_relu))\n",
    "model.add(Dense(1, activation='sigmoid'))\n",
    "model.compile(loss='binary_crossentropy', optimizer='adam',  metrics=['accuracy'])  # 'adam'\n",
    "# model.compile(loss='mse', optimizer='adam')  # 'adam'\n",
    "\n",
    "# 모델 학습, epochs=100 는 100회 학습을 의미한다.\n",
    "model.fit(X, Y, epochs=100, batch_size=32, validation_data = (X_test, Y_test), callbacks = callbacks)"
   ]
  },
  {
   "cell_type": "code",
   "execution_count": 223,
   "id": "4c8c9513-ebf2-40a6-9fa0-ae53850325c0",
   "metadata": {
    "tags": []
   },
   "outputs": [
    {
     "name": "stdout",
     "output_type": "stream",
     "text": [
      "4/4 [==============================] - 1s 4ms/step\n"
     ]
    },
    {
     "data": {
      "text/plain": [
       "0.8556701030927835"
      ]
     },
     "execution_count": 223,
     "metadata": {},
     "output_type": "execute_result"
    }
   ],
   "source": [
    "model = tf.keras.models.load_model('./model/bi-lstm_cl_model2_v2.h5')\n",
    "pred= model.predict(X_test)\n",
    "pred_label = []\n",
    "for p in pred:\n",
    "    if p >= 0.5:\n",
    "        pred_label.append(1)\n",
    "    else:\n",
    "        pred_label.append(0)\n",
    "acc = accuracy_score(Y_test, pred_label)\n",
    "acc"
   ]
  },
  {
   "cell_type": "code",
   "execution_count": 224,
   "id": "de146cb2-0b1f-4bd2-90f8-5b6a51569600",
   "metadata": {
    "tags": []
   },
   "outputs": [
    {
     "data": {
      "text/plain": [
       "0.8833333333333333"
      ]
     },
     "execution_count": 224,
     "metadata": {},
     "output_type": "execute_result"
    }
   ],
   "source": [
    "f1_score(Y_test, pred_label)"
   ]
  },
  {
   "cell_type": "code",
   "execution_count": 225,
   "id": "7cc3ae3a-3329-437e-b7d4-b3567be9d162",
   "metadata": {},
   "outputs": [
    {
     "data": {
      "text/plain": [
       "array([[30,  7],\n",
       "       [ 7, 53]], dtype=int64)"
      ]
     },
     "execution_count": 225,
     "metadata": {},
     "output_type": "execute_result"
    }
   ],
   "source": [
    "confusion_matrix(Y_test, pred_label)"
   ]
  },
  {
   "cell_type": "code",
   "execution_count": 226,
   "id": "e36b4e2d-aa94-4475-8fa2-ecabc1a40d18",
   "metadata": {
    "tags": []
   },
   "outputs": [
    {
     "data": {
      "image/png": "[encoded data removed]",
      "text/plain": [
       "<Figure size 640x480 with 2 Axes>"
      ]
     },
     "metadata": {},
     "output_type": "display_data"
    }
   ],
   "source": [
    "sns.heatmap(confusion_matrix(Y_test, pred_label), annot=True)\n",
    "plt.show()"
   ]
  }
 ],
 "metadata": {
  "colab": {
   "provenance": []
  },
  "kernelspec": {
   "display_name": "Python 3 (ipykernel)",
   "language": "python",
   "name": "python3"
  },
  "language_info": {
   "codemirror_mode": {
    "name": "ipython",
    "version": 3
   },
   "file_extension": ".py",
   "mimetype": "text/x-python",
   "name": "python",
   "nbconvert_exporter": "python",
   "pygments_lexer": "ipython3",
   "version": "3.8.8"
  }
 },
 "nbformat": 4,
 "nbformat_minor": 5
}
